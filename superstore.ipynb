{
 "cells": [
  {
   "cell_type": "markdown",
   "id": "0ea2d636",
   "metadata": {
    "id": "qHjqdRjou0AG"
   },
   "source": [
    "# DataPreprocessing\n",
    "\n"
   ]
  },
  {
   "cell_type": "code",
   "execution_count": 1,
   "id": "038513d5",
   "metadata": {
    "id": "OwvumunQMOLi"
   },
   "outputs": [
    {
     "data": {
      "text/html": [
       "<div>\n",
       "<style scoped>\n",
       "    .dataframe tbody tr th:only-of-type {\n",
       "        vertical-align: middle;\n",
       "    }\n",
       "\n",
       "    .dataframe tbody tr th {\n",
       "        vertical-align: top;\n",
       "    }\n",
       "\n",
       "    .dataframe thead th {\n",
       "        text-align: right;\n",
       "    }\n",
       "</style>\n",
       "<table border=\"1\" class=\"dataframe\">\n",
       "  <thead>\n",
       "    <tr style=\"text-align: right;\">\n",
       "      <th></th>\n",
       "      <th>Row ID</th>\n",
       "      <th>Order ID</th>\n",
       "      <th>Order Date</th>\n",
       "      <th>Ship Date</th>\n",
       "      <th>Ship Mode</th>\n",
       "      <th>Customer ID</th>\n",
       "      <th>Customer Name</th>\n",
       "      <th>Segment</th>\n",
       "      <th>City</th>\n",
       "      <th>State</th>\n",
       "      <th>...</th>\n",
       "      <th>Product ID</th>\n",
       "      <th>Category</th>\n",
       "      <th>Sub-Category</th>\n",
       "      <th>Product Name</th>\n",
       "      <th>Sales</th>\n",
       "      <th>Quantity</th>\n",
       "      <th>Discount</th>\n",
       "      <th>Profit</th>\n",
       "      <th>Shipping Cost</th>\n",
       "      <th>Order Priority</th>\n",
       "    </tr>\n",
       "  </thead>\n",
       "  <tbody>\n",
       "    <tr>\n",
       "      <th>0</th>\n",
       "      <td>32298</td>\n",
       "      <td>CA-2012-124891</td>\n",
       "      <td>7/31/2012</td>\n",
       "      <td>7/31/2012</td>\n",
       "      <td>Same Day</td>\n",
       "      <td>RH-19495</td>\n",
       "      <td>Rick Hansen</td>\n",
       "      <td>Consumer</td>\n",
       "      <td>New York City</td>\n",
       "      <td>New York</td>\n",
       "      <td>...</td>\n",
       "      <td>TEC-AC-10003033</td>\n",
       "      <td>Technology</td>\n",
       "      <td>Accessories</td>\n",
       "      <td>Plantronics CS510 - Over-the-Head monaural Wir...</td>\n",
       "      <td>2309.650</td>\n",
       "      <td>7</td>\n",
       "      <td>0.0</td>\n",
       "      <td>762.1845</td>\n",
       "      <td>933.570</td>\n",
       "      <td>Critical</td>\n",
       "    </tr>\n",
       "    <tr>\n",
       "      <th>1</th>\n",
       "      <td>26341</td>\n",
       "      <td>IN-2013-77878</td>\n",
       "      <td>2/5/2013</td>\n",
       "      <td>2/7/2013</td>\n",
       "      <td>Second Class</td>\n",
       "      <td>JR-16210</td>\n",
       "      <td>Justin Ritter</td>\n",
       "      <td>Corporate</td>\n",
       "      <td>Wollongong</td>\n",
       "      <td>New South Wales</td>\n",
       "      <td>...</td>\n",
       "      <td>FUR-CH-10003950</td>\n",
       "      <td>Furniture</td>\n",
       "      <td>Chairs</td>\n",
       "      <td>Novimex Executive Leather Armchair, Black</td>\n",
       "      <td>3709.395</td>\n",
       "      <td>9</td>\n",
       "      <td>0.1</td>\n",
       "      <td>-288.7650</td>\n",
       "      <td>923.630</td>\n",
       "      <td>Critical</td>\n",
       "    </tr>\n",
       "    <tr>\n",
       "      <th>2</th>\n",
       "      <td>25330</td>\n",
       "      <td>IN-2013-71249</td>\n",
       "      <td>10/17/2013</td>\n",
       "      <td>10/18/2013</td>\n",
       "      <td>First Class</td>\n",
       "      <td>CR-12730</td>\n",
       "      <td>Craig Reiter</td>\n",
       "      <td>Consumer</td>\n",
       "      <td>Brisbane</td>\n",
       "      <td>Queensland</td>\n",
       "      <td>...</td>\n",
       "      <td>TEC-PH-10004664</td>\n",
       "      <td>Technology</td>\n",
       "      <td>Phones</td>\n",
       "      <td>Nokia Smart Phone, with Caller ID</td>\n",
       "      <td>5175.171</td>\n",
       "      <td>9</td>\n",
       "      <td>0.1</td>\n",
       "      <td>919.9710</td>\n",
       "      <td>915.490</td>\n",
       "      <td>Medium</td>\n",
       "    </tr>\n",
       "    <tr>\n",
       "      <th>3</th>\n",
       "      <td>13524</td>\n",
       "      <td>ES-2013-1579342</td>\n",
       "      <td>1/28/2013</td>\n",
       "      <td>1/30/2013</td>\n",
       "      <td>First Class</td>\n",
       "      <td>KM-16375</td>\n",
       "      <td>Katherine Murray</td>\n",
       "      <td>Home Office</td>\n",
       "      <td>Berlin</td>\n",
       "      <td>Berlin</td>\n",
       "      <td>...</td>\n",
       "      <td>TEC-PH-10004583</td>\n",
       "      <td>Technology</td>\n",
       "      <td>Phones</td>\n",
       "      <td>Motorola Smart Phone, Cordless</td>\n",
       "      <td>2892.510</td>\n",
       "      <td>5</td>\n",
       "      <td>0.1</td>\n",
       "      <td>-96.5400</td>\n",
       "      <td>910.160</td>\n",
       "      <td>Medium</td>\n",
       "    </tr>\n",
       "    <tr>\n",
       "      <th>4</th>\n",
       "      <td>47221</td>\n",
       "      <td>SG-2013-4320</td>\n",
       "      <td>11/5/2013</td>\n",
       "      <td>11/6/2013</td>\n",
       "      <td>Same Day</td>\n",
       "      <td>RH-9495</td>\n",
       "      <td>Rick Hansen</td>\n",
       "      <td>Consumer</td>\n",
       "      <td>Dakar</td>\n",
       "      <td>Dakar</td>\n",
       "      <td>...</td>\n",
       "      <td>TEC-SHA-10000501</td>\n",
       "      <td>Technology</td>\n",
       "      <td>Copiers</td>\n",
       "      <td>Sharp Wireless Fax, High-Speed</td>\n",
       "      <td>2832.960</td>\n",
       "      <td>8</td>\n",
       "      <td>0.0</td>\n",
       "      <td>311.5200</td>\n",
       "      <td>903.040</td>\n",
       "      <td>Critical</td>\n",
       "    </tr>\n",
       "    <tr>\n",
       "      <th>...</th>\n",
       "      <td>...</td>\n",
       "      <td>...</td>\n",
       "      <td>...</td>\n",
       "      <td>...</td>\n",
       "      <td>...</td>\n",
       "      <td>...</td>\n",
       "      <td>...</td>\n",
       "      <td>...</td>\n",
       "      <td>...</td>\n",
       "      <td>...</td>\n",
       "      <td>...</td>\n",
       "      <td>...</td>\n",
       "      <td>...</td>\n",
       "      <td>...</td>\n",
       "      <td>...</td>\n",
       "      <td>...</td>\n",
       "      <td>...</td>\n",
       "      <td>...</td>\n",
       "      <td>...</td>\n",
       "      <td>...</td>\n",
       "      <td>...</td>\n",
       "    </tr>\n",
       "    <tr>\n",
       "      <th>51285</th>\n",
       "      <td>29002</td>\n",
       "      <td>IN-2014-62366</td>\n",
       "      <td>6/19/2014</td>\n",
       "      <td>6/19/2014</td>\n",
       "      <td>Same Day</td>\n",
       "      <td>KE-16420</td>\n",
       "      <td>Katrina Edelman</td>\n",
       "      <td>Corporate</td>\n",
       "      <td>Kure</td>\n",
       "      <td>Hiroshima</td>\n",
       "      <td>...</td>\n",
       "      <td>OFF-FA-10000746</td>\n",
       "      <td>Office Supplies</td>\n",
       "      <td>Fasteners</td>\n",
       "      <td>Advantus Thumb Tacks, 12 Pack</td>\n",
       "      <td>65.100</td>\n",
       "      <td>5</td>\n",
       "      <td>0.0</td>\n",
       "      <td>4.5000</td>\n",
       "      <td>0.010</td>\n",
       "      <td>Medium</td>\n",
       "    </tr>\n",
       "    <tr>\n",
       "      <th>51286</th>\n",
       "      <td>35398</td>\n",
       "      <td>US-2014-102288</td>\n",
       "      <td>6/20/2014</td>\n",
       "      <td>6/24/2014</td>\n",
       "      <td>Standard Class</td>\n",
       "      <td>ZC-21910</td>\n",
       "      <td>Zuschuss Carroll</td>\n",
       "      <td>Consumer</td>\n",
       "      <td>Houston</td>\n",
       "      <td>Texas</td>\n",
       "      <td>...</td>\n",
       "      <td>OFF-AP-10002906</td>\n",
       "      <td>Office Supplies</td>\n",
       "      <td>Appliances</td>\n",
       "      <td>Hoover Replacement Belt for Commercial Guardsm...</td>\n",
       "      <td>0.444</td>\n",
       "      <td>1</td>\n",
       "      <td>0.8</td>\n",
       "      <td>-1.1100</td>\n",
       "      <td>0.010</td>\n",
       "      <td>Medium</td>\n",
       "    </tr>\n",
       "    <tr>\n",
       "      <th>51287</th>\n",
       "      <td>40470</td>\n",
       "      <td>US-2013-155768</td>\n",
       "      <td>12/2/2013</td>\n",
       "      <td>12/2/2013</td>\n",
       "      <td>Same Day</td>\n",
       "      <td>LB-16795</td>\n",
       "      <td>Laurel Beltran</td>\n",
       "      <td>Home Office</td>\n",
       "      <td>Oxnard</td>\n",
       "      <td>California</td>\n",
       "      <td>...</td>\n",
       "      <td>OFF-EN-10001219</td>\n",
       "      <td>Office Supplies</td>\n",
       "      <td>Envelopes</td>\n",
       "      <td>#10- 4 1/8\" x 9 1/2\" Security-Tint Envelopes</td>\n",
       "      <td>22.920</td>\n",
       "      <td>3</td>\n",
       "      <td>0.0</td>\n",
       "      <td>11.2308</td>\n",
       "      <td>0.010</td>\n",
       "      <td>High</td>\n",
       "    </tr>\n",
       "    <tr>\n",
       "      <th>51288</th>\n",
       "      <td>9596</td>\n",
       "      <td>MX-2012-140767</td>\n",
       "      <td>2/18/2012</td>\n",
       "      <td>2/22/2012</td>\n",
       "      <td>Standard Class</td>\n",
       "      <td>RB-19795</td>\n",
       "      <td>Ross Baird</td>\n",
       "      <td>Home Office</td>\n",
       "      <td>Valinhos</td>\n",
       "      <td>São Paulo</td>\n",
       "      <td>...</td>\n",
       "      <td>OFF-BI-10000806</td>\n",
       "      <td>Office Supplies</td>\n",
       "      <td>Binders</td>\n",
       "      <td>Acco Index Tab, Economy</td>\n",
       "      <td>13.440</td>\n",
       "      <td>2</td>\n",
       "      <td>0.0</td>\n",
       "      <td>2.4000</td>\n",
       "      <td>0.003</td>\n",
       "      <td>Medium</td>\n",
       "    </tr>\n",
       "    <tr>\n",
       "      <th>51289</th>\n",
       "      <td>6147</td>\n",
       "      <td>MX-2012-134460</td>\n",
       "      <td>5/22/2012</td>\n",
       "      <td>5/26/2012</td>\n",
       "      <td>Second Class</td>\n",
       "      <td>MC-18100</td>\n",
       "      <td>Mick Crebagga</td>\n",
       "      <td>Consumer</td>\n",
       "      <td>Tipitapa</td>\n",
       "      <td>Managua</td>\n",
       "      <td>...</td>\n",
       "      <td>OFF-PA-10004155</td>\n",
       "      <td>Office Supplies</td>\n",
       "      <td>Paper</td>\n",
       "      <td>Eaton Computer Printout Paper, 8.5 x 11</td>\n",
       "      <td>61.380</td>\n",
       "      <td>3</td>\n",
       "      <td>0.0</td>\n",
       "      <td>1.8000</td>\n",
       "      <td>0.002</td>\n",
       "      <td>High</td>\n",
       "    </tr>\n",
       "  </tbody>\n",
       "</table>\n",
       "<p>51290 rows × 24 columns</p>\n",
       "</div>"
      ],
      "text/plain": [
       "       Row ID         Order ID  Order Date   Ship Date       Ship Mode  \\\n",
       "0       32298   CA-2012-124891   7/31/2012   7/31/2012        Same Day   \n",
       "1       26341    IN-2013-77878    2/5/2013    2/7/2013    Second Class   \n",
       "2       25330    IN-2013-71249  10/17/2013  10/18/2013     First Class   \n",
       "3       13524  ES-2013-1579342   1/28/2013   1/30/2013     First Class   \n",
       "4       47221     SG-2013-4320   11/5/2013   11/6/2013        Same Day   \n",
       "...       ...              ...         ...         ...             ...   \n",
       "51285   29002    IN-2014-62366   6/19/2014   6/19/2014        Same Day   \n",
       "51286   35398   US-2014-102288   6/20/2014   6/24/2014  Standard Class   \n",
       "51287   40470   US-2013-155768   12/2/2013   12/2/2013        Same Day   \n",
       "51288    9596   MX-2012-140767   2/18/2012   2/22/2012  Standard Class   \n",
       "51289    6147   MX-2012-134460   5/22/2012   5/26/2012    Second Class   \n",
       "\n",
       "      Customer ID     Customer Name      Segment           City  \\\n",
       "0        RH-19495       Rick Hansen     Consumer  New York City   \n",
       "1        JR-16210     Justin Ritter    Corporate     Wollongong   \n",
       "2        CR-12730      Craig Reiter     Consumer       Brisbane   \n",
       "3        KM-16375  Katherine Murray  Home Office         Berlin   \n",
       "4         RH-9495       Rick Hansen     Consumer          Dakar   \n",
       "...           ...               ...          ...            ...   \n",
       "51285    KE-16420   Katrina Edelman    Corporate           Kure   \n",
       "51286    ZC-21910  Zuschuss Carroll     Consumer        Houston   \n",
       "51287    LB-16795    Laurel Beltran  Home Office         Oxnard   \n",
       "51288    RB-19795        Ross Baird  Home Office       Valinhos   \n",
       "51289    MC-18100     Mick Crebagga     Consumer       Tipitapa   \n",
       "\n",
       "                 State  ...        Product ID         Category Sub-Category  \\\n",
       "0             New York  ...   TEC-AC-10003033       Technology  Accessories   \n",
       "1      New South Wales  ...   FUR-CH-10003950        Furniture       Chairs   \n",
       "2           Queensland  ...   TEC-PH-10004664       Technology       Phones   \n",
       "3               Berlin  ...   TEC-PH-10004583       Technology       Phones   \n",
       "4                Dakar  ...  TEC-SHA-10000501       Technology      Copiers   \n",
       "...                ...  ...               ...              ...          ...   \n",
       "51285        Hiroshima  ...   OFF-FA-10000746  Office Supplies    Fasteners   \n",
       "51286            Texas  ...   OFF-AP-10002906  Office Supplies   Appliances   \n",
       "51287       California  ...   OFF-EN-10001219  Office Supplies    Envelopes   \n",
       "51288        São Paulo  ...   OFF-BI-10000806  Office Supplies      Binders   \n",
       "51289          Managua  ...   OFF-PA-10004155  Office Supplies        Paper   \n",
       "\n",
       "                                            Product Name     Sales Quantity  \\\n",
       "0      Plantronics CS510 - Over-the-Head monaural Wir...  2309.650        7   \n",
       "1              Novimex Executive Leather Armchair, Black  3709.395        9   \n",
       "2                      Nokia Smart Phone, with Caller ID  5175.171        9   \n",
       "3                         Motorola Smart Phone, Cordless  2892.510        5   \n",
       "4                         Sharp Wireless Fax, High-Speed  2832.960        8   \n",
       "...                                                  ...       ...      ...   \n",
       "51285                      Advantus Thumb Tacks, 12 Pack    65.100        5   \n",
       "51286  Hoover Replacement Belt for Commercial Guardsm...     0.444        1   \n",
       "51287       #10- 4 1/8\" x 9 1/2\" Security-Tint Envelopes    22.920        3   \n",
       "51288                            Acco Index Tab, Economy    13.440        2   \n",
       "51289            Eaton Computer Printout Paper, 8.5 x 11    61.380        3   \n",
       "\n",
       "      Discount    Profit  Shipping Cost  Order Priority  \n",
       "0          0.0  762.1845        933.570        Critical  \n",
       "1          0.1 -288.7650        923.630        Critical  \n",
       "2          0.1  919.9710        915.490          Medium  \n",
       "3          0.1  -96.5400        910.160          Medium  \n",
       "4          0.0  311.5200        903.040        Critical  \n",
       "...        ...       ...            ...             ...  \n",
       "51285      0.0    4.5000          0.010          Medium  \n",
       "51286      0.8   -1.1100          0.010          Medium  \n",
       "51287      0.0   11.2308          0.010            High  \n",
       "51288      0.0    2.4000          0.003          Medium  \n",
       "51289      0.0    1.8000          0.002            High  \n",
       "\n",
       "[51290 rows x 24 columns]"
      ]
     },
     "execution_count": 1,
     "metadata": {},
     "output_type": "execute_result"
    }
   ],
   "source": [
    "import pandas as pd\n",
    "df=pd.read_csv(\"data.csv\")\n",
    "df=pd.DataFrame(df)\n",
    "df"
   ]
  },
  {
   "cell_type": "code",
   "execution_count": 2,
   "id": "95ea5de1",
   "metadata": {
    "id": "aUD0lCVhwWQ5"
   },
   "outputs": [
    {
     "data": {
      "text/html": [
       "<div>\n",
       "<style scoped>\n",
       "    .dataframe tbody tr th:only-of-type {\n",
       "        vertical-align: middle;\n",
       "    }\n",
       "\n",
       "    .dataframe tbody tr th {\n",
       "        vertical-align: top;\n",
       "    }\n",
       "\n",
       "    .dataframe thead th {\n",
       "        text-align: right;\n",
       "    }\n",
       "</style>\n",
       "<table border=\"1\" class=\"dataframe\">\n",
       "  <thead>\n",
       "    <tr style=\"text-align: right;\">\n",
       "      <th></th>\n",
       "      <th>Row ID</th>\n",
       "      <th>Order ID</th>\n",
       "      <th>Order Date</th>\n",
       "      <th>Ship Date</th>\n",
       "      <th>Ship Mode</th>\n",
       "      <th>Customer ID</th>\n",
       "      <th>Customer Name</th>\n",
       "      <th>Segment</th>\n",
       "      <th>City</th>\n",
       "      <th>State</th>\n",
       "      <th>...</th>\n",
       "      <th>Product ID</th>\n",
       "      <th>Category</th>\n",
       "      <th>Sub-Category</th>\n",
       "      <th>Product Name</th>\n",
       "      <th>Sales</th>\n",
       "      <th>Quantity</th>\n",
       "      <th>Discount</th>\n",
       "      <th>Profit</th>\n",
       "      <th>Shipping Cost</th>\n",
       "      <th>Order Priority</th>\n",
       "    </tr>\n",
       "  </thead>\n",
       "  <tbody>\n",
       "    <tr>\n",
       "      <th>0</th>\n",
       "      <td>32298</td>\n",
       "      <td>CA-2012-124891</td>\n",
       "      <td>7/31/2012</td>\n",
       "      <td>7/31/2012</td>\n",
       "      <td>Same Day</td>\n",
       "      <td>RH-19495</td>\n",
       "      <td>Rick Hansen</td>\n",
       "      <td>Consumer</td>\n",
       "      <td>New York City</td>\n",
       "      <td>New York</td>\n",
       "      <td>...</td>\n",
       "      <td>TEC-AC-10003033</td>\n",
       "      <td>Technology</td>\n",
       "      <td>Accessories</td>\n",
       "      <td>Plantronics CS510 - Over-the-Head monaural Wir...</td>\n",
       "      <td>2309.650</td>\n",
       "      <td>7</td>\n",
       "      <td>0.0</td>\n",
       "      <td>762.1845</td>\n",
       "      <td>933.57</td>\n",
       "      <td>Critical</td>\n",
       "    </tr>\n",
       "    <tr>\n",
       "      <th>1</th>\n",
       "      <td>26341</td>\n",
       "      <td>IN-2013-77878</td>\n",
       "      <td>2/5/2013</td>\n",
       "      <td>2/7/2013</td>\n",
       "      <td>Second Class</td>\n",
       "      <td>JR-16210</td>\n",
       "      <td>Justin Ritter</td>\n",
       "      <td>Corporate</td>\n",
       "      <td>Wollongong</td>\n",
       "      <td>New South Wales</td>\n",
       "      <td>...</td>\n",
       "      <td>FUR-CH-10003950</td>\n",
       "      <td>Furniture</td>\n",
       "      <td>Chairs</td>\n",
       "      <td>Novimex Executive Leather Armchair, Black</td>\n",
       "      <td>3709.395</td>\n",
       "      <td>9</td>\n",
       "      <td>0.1</td>\n",
       "      <td>-288.7650</td>\n",
       "      <td>923.63</td>\n",
       "      <td>Critical</td>\n",
       "    </tr>\n",
       "    <tr>\n",
       "      <th>2</th>\n",
       "      <td>25330</td>\n",
       "      <td>IN-2013-71249</td>\n",
       "      <td>10/17/2013</td>\n",
       "      <td>10/18/2013</td>\n",
       "      <td>First Class</td>\n",
       "      <td>CR-12730</td>\n",
       "      <td>Craig Reiter</td>\n",
       "      <td>Consumer</td>\n",
       "      <td>Brisbane</td>\n",
       "      <td>Queensland</td>\n",
       "      <td>...</td>\n",
       "      <td>TEC-PH-10004664</td>\n",
       "      <td>Technology</td>\n",
       "      <td>Phones</td>\n",
       "      <td>Nokia Smart Phone, with Caller ID</td>\n",
       "      <td>5175.171</td>\n",
       "      <td>9</td>\n",
       "      <td>0.1</td>\n",
       "      <td>919.9710</td>\n",
       "      <td>915.49</td>\n",
       "      <td>Medium</td>\n",
       "    </tr>\n",
       "    <tr>\n",
       "      <th>3</th>\n",
       "      <td>13524</td>\n",
       "      <td>ES-2013-1579342</td>\n",
       "      <td>1/28/2013</td>\n",
       "      <td>1/30/2013</td>\n",
       "      <td>First Class</td>\n",
       "      <td>KM-16375</td>\n",
       "      <td>Katherine Murray</td>\n",
       "      <td>Home Office</td>\n",
       "      <td>Berlin</td>\n",
       "      <td>Berlin</td>\n",
       "      <td>...</td>\n",
       "      <td>TEC-PH-10004583</td>\n",
       "      <td>Technology</td>\n",
       "      <td>Phones</td>\n",
       "      <td>Motorola Smart Phone, Cordless</td>\n",
       "      <td>2892.510</td>\n",
       "      <td>5</td>\n",
       "      <td>0.1</td>\n",
       "      <td>-96.5400</td>\n",
       "      <td>910.16</td>\n",
       "      <td>Medium</td>\n",
       "    </tr>\n",
       "    <tr>\n",
       "      <th>4</th>\n",
       "      <td>47221</td>\n",
       "      <td>SG-2013-4320</td>\n",
       "      <td>11/5/2013</td>\n",
       "      <td>11/6/2013</td>\n",
       "      <td>Same Day</td>\n",
       "      <td>RH-9495</td>\n",
       "      <td>Rick Hansen</td>\n",
       "      <td>Consumer</td>\n",
       "      <td>Dakar</td>\n",
       "      <td>Dakar</td>\n",
       "      <td>...</td>\n",
       "      <td>TEC-SHA-10000501</td>\n",
       "      <td>Technology</td>\n",
       "      <td>Copiers</td>\n",
       "      <td>Sharp Wireless Fax, High-Speed</td>\n",
       "      <td>2832.960</td>\n",
       "      <td>8</td>\n",
       "      <td>0.0</td>\n",
       "      <td>311.5200</td>\n",
       "      <td>903.04</td>\n",
       "      <td>Critical</td>\n",
       "    </tr>\n",
       "  </tbody>\n",
       "</table>\n",
       "<p>5 rows × 24 columns</p>\n",
       "</div>"
      ],
      "text/plain": [
       "   Row ID         Order ID  Order Date   Ship Date     Ship Mode Customer ID  \\\n",
       "0   32298   CA-2012-124891   7/31/2012   7/31/2012      Same Day    RH-19495   \n",
       "1   26341    IN-2013-77878    2/5/2013    2/7/2013  Second Class    JR-16210   \n",
       "2   25330    IN-2013-71249  10/17/2013  10/18/2013   First Class    CR-12730   \n",
       "3   13524  ES-2013-1579342   1/28/2013   1/30/2013   First Class    KM-16375   \n",
       "4   47221     SG-2013-4320   11/5/2013   11/6/2013      Same Day     RH-9495   \n",
       "\n",
       "      Customer Name      Segment           City            State  ...  \\\n",
       "0       Rick Hansen     Consumer  New York City         New York  ...   \n",
       "1     Justin Ritter    Corporate     Wollongong  New South Wales  ...   \n",
       "2      Craig Reiter     Consumer       Brisbane       Queensland  ...   \n",
       "3  Katherine Murray  Home Office         Berlin           Berlin  ...   \n",
       "4       Rick Hansen     Consumer          Dakar            Dakar  ...   \n",
       "\n",
       "         Product ID    Category Sub-Category  \\\n",
       "0   TEC-AC-10003033  Technology  Accessories   \n",
       "1   FUR-CH-10003950   Furniture       Chairs   \n",
       "2   TEC-PH-10004664  Technology       Phones   \n",
       "3   TEC-PH-10004583  Technology       Phones   \n",
       "4  TEC-SHA-10000501  Technology      Copiers   \n",
       "\n",
       "                                        Product Name     Sales Quantity  \\\n",
       "0  Plantronics CS510 - Over-the-Head monaural Wir...  2309.650        7   \n",
       "1          Novimex Executive Leather Armchair, Black  3709.395        9   \n",
       "2                  Nokia Smart Phone, with Caller ID  5175.171        9   \n",
       "3                     Motorola Smart Phone, Cordless  2892.510        5   \n",
       "4                     Sharp Wireless Fax, High-Speed  2832.960        8   \n",
       "\n",
       "  Discount    Profit  Shipping Cost  Order Priority  \n",
       "0      0.0  762.1845         933.57        Critical  \n",
       "1      0.1 -288.7650         923.63        Critical  \n",
       "2      0.1  919.9710         915.49          Medium  \n",
       "3      0.1  -96.5400         910.16          Medium  \n",
       "4      0.0  311.5200         903.04        Critical  \n",
       "\n",
       "[5 rows x 24 columns]"
      ]
     },
     "execution_count": 2,
     "metadata": {},
     "output_type": "execute_result"
    }
   ],
   "source": [
    "first_rows=df.head()\n",
    "first_rows"
   ]
  },
  {
   "cell_type": "code",
   "execution_count": 3,
   "id": "074cde32",
   "metadata": {
    "id": "YsAbWjk9wWT9"
   },
   "outputs": [
    {
     "data": {
      "text/html": [
       "<div>\n",
       "<style scoped>\n",
       "    .dataframe tbody tr th:only-of-type {\n",
       "        vertical-align: middle;\n",
       "    }\n",
       "\n",
       "    .dataframe tbody tr th {\n",
       "        vertical-align: top;\n",
       "    }\n",
       "\n",
       "    .dataframe thead th {\n",
       "        text-align: right;\n",
       "    }\n",
       "</style>\n",
       "<table border=\"1\" class=\"dataframe\">\n",
       "  <thead>\n",
       "    <tr style=\"text-align: right;\">\n",
       "      <th></th>\n",
       "      <th>Row ID</th>\n",
       "      <th>Order ID</th>\n",
       "      <th>Order Date</th>\n",
       "      <th>Ship Date</th>\n",
       "      <th>Ship Mode</th>\n",
       "      <th>Customer ID</th>\n",
       "      <th>Customer Name</th>\n",
       "      <th>Segment</th>\n",
       "      <th>City</th>\n",
       "      <th>State</th>\n",
       "      <th>...</th>\n",
       "      <th>Product ID</th>\n",
       "      <th>Category</th>\n",
       "      <th>Sub-Category</th>\n",
       "      <th>Product Name</th>\n",
       "      <th>Sales</th>\n",
       "      <th>Quantity</th>\n",
       "      <th>Discount</th>\n",
       "      <th>Profit</th>\n",
       "      <th>Shipping Cost</th>\n",
       "      <th>Order Priority</th>\n",
       "    </tr>\n",
       "  </thead>\n",
       "  <tbody>\n",
       "    <tr>\n",
       "      <th>51285</th>\n",
       "      <td>29002</td>\n",
       "      <td>IN-2014-62366</td>\n",
       "      <td>6/19/2014</td>\n",
       "      <td>6/19/2014</td>\n",
       "      <td>Same Day</td>\n",
       "      <td>KE-16420</td>\n",
       "      <td>Katrina Edelman</td>\n",
       "      <td>Corporate</td>\n",
       "      <td>Kure</td>\n",
       "      <td>Hiroshima</td>\n",
       "      <td>...</td>\n",
       "      <td>OFF-FA-10000746</td>\n",
       "      <td>Office Supplies</td>\n",
       "      <td>Fasteners</td>\n",
       "      <td>Advantus Thumb Tacks, 12 Pack</td>\n",
       "      <td>65.100</td>\n",
       "      <td>5</td>\n",
       "      <td>0.0</td>\n",
       "      <td>4.5000</td>\n",
       "      <td>0.010</td>\n",
       "      <td>Medium</td>\n",
       "    </tr>\n",
       "    <tr>\n",
       "      <th>51286</th>\n",
       "      <td>35398</td>\n",
       "      <td>US-2014-102288</td>\n",
       "      <td>6/20/2014</td>\n",
       "      <td>6/24/2014</td>\n",
       "      <td>Standard Class</td>\n",
       "      <td>ZC-21910</td>\n",
       "      <td>Zuschuss Carroll</td>\n",
       "      <td>Consumer</td>\n",
       "      <td>Houston</td>\n",
       "      <td>Texas</td>\n",
       "      <td>...</td>\n",
       "      <td>OFF-AP-10002906</td>\n",
       "      <td>Office Supplies</td>\n",
       "      <td>Appliances</td>\n",
       "      <td>Hoover Replacement Belt for Commercial Guardsm...</td>\n",
       "      <td>0.444</td>\n",
       "      <td>1</td>\n",
       "      <td>0.8</td>\n",
       "      <td>-1.1100</td>\n",
       "      <td>0.010</td>\n",
       "      <td>Medium</td>\n",
       "    </tr>\n",
       "    <tr>\n",
       "      <th>51287</th>\n",
       "      <td>40470</td>\n",
       "      <td>US-2013-155768</td>\n",
       "      <td>12/2/2013</td>\n",
       "      <td>12/2/2013</td>\n",
       "      <td>Same Day</td>\n",
       "      <td>LB-16795</td>\n",
       "      <td>Laurel Beltran</td>\n",
       "      <td>Home Office</td>\n",
       "      <td>Oxnard</td>\n",
       "      <td>California</td>\n",
       "      <td>...</td>\n",
       "      <td>OFF-EN-10001219</td>\n",
       "      <td>Office Supplies</td>\n",
       "      <td>Envelopes</td>\n",
       "      <td>#10- 4 1/8\" x 9 1/2\" Security-Tint Envelopes</td>\n",
       "      <td>22.920</td>\n",
       "      <td>3</td>\n",
       "      <td>0.0</td>\n",
       "      <td>11.2308</td>\n",
       "      <td>0.010</td>\n",
       "      <td>High</td>\n",
       "    </tr>\n",
       "    <tr>\n",
       "      <th>51288</th>\n",
       "      <td>9596</td>\n",
       "      <td>MX-2012-140767</td>\n",
       "      <td>2/18/2012</td>\n",
       "      <td>2/22/2012</td>\n",
       "      <td>Standard Class</td>\n",
       "      <td>RB-19795</td>\n",
       "      <td>Ross Baird</td>\n",
       "      <td>Home Office</td>\n",
       "      <td>Valinhos</td>\n",
       "      <td>São Paulo</td>\n",
       "      <td>...</td>\n",
       "      <td>OFF-BI-10000806</td>\n",
       "      <td>Office Supplies</td>\n",
       "      <td>Binders</td>\n",
       "      <td>Acco Index Tab, Economy</td>\n",
       "      <td>13.440</td>\n",
       "      <td>2</td>\n",
       "      <td>0.0</td>\n",
       "      <td>2.4000</td>\n",
       "      <td>0.003</td>\n",
       "      <td>Medium</td>\n",
       "    </tr>\n",
       "    <tr>\n",
       "      <th>51289</th>\n",
       "      <td>6147</td>\n",
       "      <td>MX-2012-134460</td>\n",
       "      <td>5/22/2012</td>\n",
       "      <td>5/26/2012</td>\n",
       "      <td>Second Class</td>\n",
       "      <td>MC-18100</td>\n",
       "      <td>Mick Crebagga</td>\n",
       "      <td>Consumer</td>\n",
       "      <td>Tipitapa</td>\n",
       "      <td>Managua</td>\n",
       "      <td>...</td>\n",
       "      <td>OFF-PA-10004155</td>\n",
       "      <td>Office Supplies</td>\n",
       "      <td>Paper</td>\n",
       "      <td>Eaton Computer Printout Paper, 8.5 x 11</td>\n",
       "      <td>61.380</td>\n",
       "      <td>3</td>\n",
       "      <td>0.0</td>\n",
       "      <td>1.8000</td>\n",
       "      <td>0.002</td>\n",
       "      <td>High</td>\n",
       "    </tr>\n",
       "  </tbody>\n",
       "</table>\n",
       "<p>5 rows × 24 columns</p>\n",
       "</div>"
      ],
      "text/plain": [
       "       Row ID        Order ID Order Date  Ship Date       Ship Mode  \\\n",
       "51285   29002   IN-2014-62366  6/19/2014  6/19/2014        Same Day   \n",
       "51286   35398  US-2014-102288  6/20/2014  6/24/2014  Standard Class   \n",
       "51287   40470  US-2013-155768  12/2/2013  12/2/2013        Same Day   \n",
       "51288    9596  MX-2012-140767  2/18/2012  2/22/2012  Standard Class   \n",
       "51289    6147  MX-2012-134460  5/22/2012  5/26/2012    Second Class   \n",
       "\n",
       "      Customer ID     Customer Name      Segment      City       State  ...  \\\n",
       "51285    KE-16420   Katrina Edelman    Corporate      Kure   Hiroshima  ...   \n",
       "51286    ZC-21910  Zuschuss Carroll     Consumer   Houston       Texas  ...   \n",
       "51287    LB-16795    Laurel Beltran  Home Office    Oxnard  California  ...   \n",
       "51288    RB-19795        Ross Baird  Home Office  Valinhos   São Paulo  ...   \n",
       "51289    MC-18100     Mick Crebagga     Consumer  Tipitapa     Managua  ...   \n",
       "\n",
       "            Product ID         Category Sub-Category  \\\n",
       "51285  OFF-FA-10000746  Office Supplies    Fasteners   \n",
       "51286  OFF-AP-10002906  Office Supplies   Appliances   \n",
       "51287  OFF-EN-10001219  Office Supplies    Envelopes   \n",
       "51288  OFF-BI-10000806  Office Supplies      Binders   \n",
       "51289  OFF-PA-10004155  Office Supplies        Paper   \n",
       "\n",
       "                                            Product Name   Sales Quantity  \\\n",
       "51285                      Advantus Thumb Tacks, 12 Pack  65.100        5   \n",
       "51286  Hoover Replacement Belt for Commercial Guardsm...   0.444        1   \n",
       "51287       #10- 4 1/8\" x 9 1/2\" Security-Tint Envelopes  22.920        3   \n",
       "51288                            Acco Index Tab, Economy  13.440        2   \n",
       "51289            Eaton Computer Printout Paper, 8.5 x 11  61.380        3   \n",
       "\n",
       "      Discount   Profit  Shipping Cost  Order Priority  \n",
       "51285      0.0   4.5000          0.010          Medium  \n",
       "51286      0.8  -1.1100          0.010          Medium  \n",
       "51287      0.0  11.2308          0.010            High  \n",
       "51288      0.0   2.4000          0.003          Medium  \n",
       "51289      0.0   1.8000          0.002            High  \n",
       "\n",
       "[5 rows x 24 columns]"
      ]
     },
     "execution_count": 3,
     "metadata": {},
     "output_type": "execute_result"
    }
   ],
   "source": [
    "last_rows=df.tail()\n",
    "last_rows"
   ]
  },
  {
   "cell_type": "code",
   "execution_count": 4,
   "id": "3051130d",
   "metadata": {},
   "outputs": [
    {
     "data": {
      "text/plain": [
       "(51290, 24)"
      ]
     },
     "execution_count": 4,
     "metadata": {},
     "output_type": "execute_result"
    }
   ],
   "source": [
    "df.shape"
   ]
  },
  {
   "cell_type": "code",
   "execution_count": 5,
   "id": "46ee6fff",
   "metadata": {},
   "outputs": [
    {
     "data": {
      "text/html": [
       "<div>\n",
       "<style scoped>\n",
       "    .dataframe tbody tr th:only-of-type {\n",
       "        vertical-align: middle;\n",
       "    }\n",
       "\n",
       "    .dataframe tbody tr th {\n",
       "        vertical-align: top;\n",
       "    }\n",
       "\n",
       "    .dataframe thead th {\n",
       "        text-align: right;\n",
       "    }\n",
       "</style>\n",
       "<table border=\"1\" class=\"dataframe\">\n",
       "  <thead>\n",
       "    <tr style=\"text-align: right;\">\n",
       "      <th></th>\n",
       "      <th>Row ID</th>\n",
       "      <th>Postal Code</th>\n",
       "      <th>Sales</th>\n",
       "      <th>Quantity</th>\n",
       "      <th>Discount</th>\n",
       "      <th>Profit</th>\n",
       "      <th>Shipping Cost</th>\n",
       "    </tr>\n",
       "  </thead>\n",
       "  <tbody>\n",
       "    <tr>\n",
       "      <th>count</th>\n",
       "      <td>51290.00000</td>\n",
       "      <td>9994.000000</td>\n",
       "      <td>51290.000000</td>\n",
       "      <td>51290.000000</td>\n",
       "      <td>51290.000000</td>\n",
       "      <td>51290.000000</td>\n",
       "      <td>51290.000000</td>\n",
       "    </tr>\n",
       "    <tr>\n",
       "      <th>mean</th>\n",
       "      <td>25645.50000</td>\n",
       "      <td>55190.379428</td>\n",
       "      <td>246.490581</td>\n",
       "      <td>3.476545</td>\n",
       "      <td>0.142908</td>\n",
       "      <td>28.610982</td>\n",
       "      <td>26.375818</td>\n",
       "    </tr>\n",
       "    <tr>\n",
       "      <th>std</th>\n",
       "      <td>14806.29199</td>\n",
       "      <td>32063.693350</td>\n",
       "      <td>487.565361</td>\n",
       "      <td>2.278766</td>\n",
       "      <td>0.212280</td>\n",
       "      <td>174.340972</td>\n",
       "      <td>57.296810</td>\n",
       "    </tr>\n",
       "    <tr>\n",
       "      <th>min</th>\n",
       "      <td>1.00000</td>\n",
       "      <td>1040.000000</td>\n",
       "      <td>0.444000</td>\n",
       "      <td>1.000000</td>\n",
       "      <td>0.000000</td>\n",
       "      <td>-6599.978000</td>\n",
       "      <td>0.002000</td>\n",
       "    </tr>\n",
       "    <tr>\n",
       "      <th>25%</th>\n",
       "      <td>12823.25000</td>\n",
       "      <td>23223.000000</td>\n",
       "      <td>30.758625</td>\n",
       "      <td>2.000000</td>\n",
       "      <td>0.000000</td>\n",
       "      <td>0.000000</td>\n",
       "      <td>2.610000</td>\n",
       "    </tr>\n",
       "    <tr>\n",
       "      <th>50%</th>\n",
       "      <td>25645.50000</td>\n",
       "      <td>56430.500000</td>\n",
       "      <td>85.053000</td>\n",
       "      <td>3.000000</td>\n",
       "      <td>0.000000</td>\n",
       "      <td>9.240000</td>\n",
       "      <td>7.790000</td>\n",
       "    </tr>\n",
       "    <tr>\n",
       "      <th>75%</th>\n",
       "      <td>38467.75000</td>\n",
       "      <td>90008.000000</td>\n",
       "      <td>251.053200</td>\n",
       "      <td>5.000000</td>\n",
       "      <td>0.200000</td>\n",
       "      <td>36.810000</td>\n",
       "      <td>24.450000</td>\n",
       "    </tr>\n",
       "    <tr>\n",
       "      <th>max</th>\n",
       "      <td>51290.00000</td>\n",
       "      <td>99301.000000</td>\n",
       "      <td>22638.480000</td>\n",
       "      <td>14.000000</td>\n",
       "      <td>0.850000</td>\n",
       "      <td>8399.976000</td>\n",
       "      <td>933.570000</td>\n",
       "    </tr>\n",
       "  </tbody>\n",
       "</table>\n",
       "</div>"
      ],
      "text/plain": [
       "            Row ID   Postal Code         Sales      Quantity      Discount  \\\n",
       "count  51290.00000   9994.000000  51290.000000  51290.000000  51290.000000   \n",
       "mean   25645.50000  55190.379428    246.490581      3.476545      0.142908   \n",
       "std    14806.29199  32063.693350    487.565361      2.278766      0.212280   \n",
       "min        1.00000   1040.000000      0.444000      1.000000      0.000000   \n",
       "25%    12823.25000  23223.000000     30.758625      2.000000      0.000000   \n",
       "50%    25645.50000  56430.500000     85.053000      3.000000      0.000000   \n",
       "75%    38467.75000  90008.000000    251.053200      5.000000      0.200000   \n",
       "max    51290.00000  99301.000000  22638.480000     14.000000      0.850000   \n",
       "\n",
       "             Profit  Shipping Cost  \n",
       "count  51290.000000   51290.000000  \n",
       "mean      28.610982      26.375818  \n",
       "std      174.340972      57.296810  \n",
       "min    -6599.978000       0.002000  \n",
       "25%        0.000000       2.610000  \n",
       "50%        9.240000       7.790000  \n",
       "75%       36.810000      24.450000  \n",
       "max     8399.976000     933.570000  "
      ]
     },
     "execution_count": 5,
     "metadata": {},
     "output_type": "execute_result"
    }
   ],
   "source": [
    "df.describe()"
   ]
  },
  {
   "cell_type": "code",
   "execution_count": 6,
   "id": "7a90d079",
   "metadata": {},
   "outputs": [
    {
     "name": "stdout",
     "output_type": "stream",
     "text": [
      "<class 'pandas.core.frame.DataFrame'>\n",
      "RangeIndex: 51290 entries, 0 to 51289\n",
      "Data columns (total 24 columns):\n",
      " #   Column          Non-Null Count  Dtype  \n",
      "---  ------          --------------  -----  \n",
      " 0   Row ID          51290 non-null  int64  \n",
      " 1   Order ID        51290 non-null  object \n",
      " 2   Order Date      51290 non-null  object \n",
      " 3   Ship Date       51290 non-null  object \n",
      " 4   Ship Mode       51290 non-null  object \n",
      " 5   Customer ID     51290 non-null  object \n",
      " 6   Customer Name   51290 non-null  object \n",
      " 7   Segment         51290 non-null  object \n",
      " 8   City            51290 non-null  object \n",
      " 9   State           51290 non-null  object \n",
      " 10  Country         51290 non-null  object \n",
      " 11  Postal Code     9994 non-null   float64\n",
      " 12  Market          51290 non-null  object \n",
      " 13  Region          51290 non-null  object \n",
      " 14  Product ID      51290 non-null  object \n",
      " 15  Category        51290 non-null  object \n",
      " 16  Sub-Category    51290 non-null  object \n",
      " 17  Product Name    51290 non-null  object \n",
      " 18  Sales           51290 non-null  float64\n",
      " 19  Quantity        51290 non-null  int64  \n",
      " 20  Discount        51290 non-null  float64\n",
      " 21  Profit          51290 non-null  float64\n",
      " 22  Shipping Cost   51290 non-null  float64\n",
      " 23  Order Priority  51290 non-null  object \n",
      "dtypes: float64(5), int64(2), object(17)\n",
      "memory usage: 9.4+ MB\n"
     ]
    }
   ],
   "source": [
    "df.info()"
   ]
  },
  {
   "cell_type": "code",
   "execution_count": 7,
   "id": "8b7223d0",
   "metadata": {},
   "outputs": [
    {
     "data": {
      "text/plain": [
       "Index(['Row ID', 'Order ID', 'Order Date', 'Ship Date', 'Ship Mode',\n",
       "       'Customer ID', 'Customer Name', 'Segment', 'City', 'State', 'Country',\n",
       "       'Postal Code', 'Market', 'Region', 'Product ID', 'Category',\n",
       "       'Sub-Category', 'Product Name', 'Sales', 'Quantity', 'Discount',\n",
       "       'Profit', 'Shipping Cost', 'Order Priority'],\n",
       "      dtype='object')"
      ]
     },
     "execution_count": 7,
     "metadata": {},
     "output_type": "execute_result"
    }
   ],
   "source": [
    "df.columns"
   ]
  },
  {
   "cell_type": "code",
   "execution_count": 8,
   "id": "92591cb1",
   "metadata": {},
   "outputs": [
    {
     "data": {
      "text/plain": [
       "1230960"
      ]
     },
     "execution_count": 8,
     "metadata": {},
     "output_type": "execute_result"
    }
   ],
   "source": [
    "df.size"
   ]
  },
  {
   "cell_type": "code",
   "execution_count": 9,
   "id": "d202735e",
   "metadata": {},
   "outputs": [
    {
     "data": {
      "text/plain": [
       "Sub-Category\n",
       "Accessories    10946\n",
       "Appliances      6078\n",
       "Art            16301\n",
       "Binders        21429\n",
       "Bookcases       8310\n",
       "Chairs         12336\n",
       "Copiers         7454\n",
       "Envelopes       8380\n",
       "Fasteners       8390\n",
       "Furnishings    11225\n",
       "Labels          9322\n",
       "Machines        4906\n",
       "Paper          12822\n",
       "Phones         11870\n",
       "Storage        16917\n",
       "Supplies        8543\n",
       "Tables          3083\n",
       "Name: Quantity, dtype: int64"
      ]
     },
     "execution_count": 9,
     "metadata": {},
     "output_type": "execute_result"
    }
   ],
   "source": [
    "df.groupby(\"Sub-Category\")[\"Quantity\"].sum()"
   ]
  },
  {
   "cell_type": "code",
   "execution_count": 10,
   "id": "254c8beb",
   "metadata": {},
   "outputs": [
    {
     "data": {
      "text/html": [
       "<div>\n",
       "<style scoped>\n",
       "    .dataframe tbody tr th:only-of-type {\n",
       "        vertical-align: middle;\n",
       "    }\n",
       "\n",
       "    .dataframe tbody tr th {\n",
       "        vertical-align: top;\n",
       "    }\n",
       "\n",
       "    .dataframe thead th {\n",
       "        text-align: right;\n",
       "    }\n",
       "</style>\n",
       "<table border=\"1\" class=\"dataframe\">\n",
       "  <thead>\n",
       "    <tr style=\"text-align: right;\">\n",
       "      <th></th>\n",
       "      <th>Row ID</th>\n",
       "      <th>Order ID</th>\n",
       "      <th>Order Date</th>\n",
       "      <th>Ship Date</th>\n",
       "      <th>Ship Mode</th>\n",
       "      <th>Customer ID</th>\n",
       "      <th>Customer Name</th>\n",
       "      <th>Segment</th>\n",
       "      <th>City</th>\n",
       "      <th>State</th>\n",
       "      <th>...</th>\n",
       "      <th>Product ID</th>\n",
       "      <th>Category</th>\n",
       "      <th>Sub-Category</th>\n",
       "      <th>Product Name</th>\n",
       "      <th>Sales</th>\n",
       "      <th>Quantity</th>\n",
       "      <th>Discount</th>\n",
       "      <th>Profit</th>\n",
       "      <th>Shipping Cost</th>\n",
       "      <th>Order Priority</th>\n",
       "    </tr>\n",
       "  </thead>\n",
       "  <tbody>\n",
       "    <tr>\n",
       "      <th>1266</th>\n",
       "      <td>30369</td>\n",
       "      <td>ID-2012-82393</td>\n",
       "      <td>4/20/2012</td>\n",
       "      <td>4/22/2012</td>\n",
       "      <td>Second Class</td>\n",
       "      <td>CL-12700</td>\n",
       "      <td>Craig Leslie</td>\n",
       "      <td>Home Office</td>\n",
       "      <td>Auckland</td>\n",
       "      <td>Auckland</td>\n",
       "      <td>...</td>\n",
       "      <td>FUR-CH-10004199</td>\n",
       "      <td>Furniture</td>\n",
       "      <td>Chairs</td>\n",
       "      <td>SAFCO Executive Leather Armchair, Adjustable</td>\n",
       "      <td>556.7040</td>\n",
       "      <td>2</td>\n",
       "      <td>0.40</td>\n",
       "      <td>-306.2160</td>\n",
       "      <td>177.360</td>\n",
       "      <td>Critical</td>\n",
       "    </tr>\n",
       "    <tr>\n",
       "      <th>32198</th>\n",
       "      <td>3262</td>\n",
       "      <td>MX-2011-142097</td>\n",
       "      <td>5/10/2011</td>\n",
       "      <td>5/15/2011</td>\n",
       "      <td>Second Class</td>\n",
       "      <td>SC-20800</td>\n",
       "      <td>Stuart Calhoun</td>\n",
       "      <td>Consumer</td>\n",
       "      <td>Tijuana</td>\n",
       "      <td>Baja California</td>\n",
       "      <td>...</td>\n",
       "      <td>OFF-BI-10003372</td>\n",
       "      <td>Office Supplies</td>\n",
       "      <td>Binders</td>\n",
       "      <td>Ibico Binding Machine, Durable</td>\n",
       "      <td>70.5600</td>\n",
       "      <td>2</td>\n",
       "      <td>0.00</td>\n",
       "      <td>0.6800</td>\n",
       "      <td>4.577</td>\n",
       "      <td>Medium</td>\n",
       "    </tr>\n",
       "    <tr>\n",
       "      <th>11129</th>\n",
       "      <td>31976</td>\n",
       "      <td>US-2014-119438</td>\n",
       "      <td>3/19/2014</td>\n",
       "      <td>3/24/2014</td>\n",
       "      <td>Standard Class</td>\n",
       "      <td>CD-11980</td>\n",
       "      <td>Carol Darley</td>\n",
       "      <td>Consumer</td>\n",
       "      <td>Tyler</td>\n",
       "      <td>Texas</td>\n",
       "      <td>...</td>\n",
       "      <td>OFF-BI-10004632</td>\n",
       "      <td>Office Supplies</td>\n",
       "      <td>Binders</td>\n",
       "      <td>Ibico Hi-Tech Manual Binding System</td>\n",
       "      <td>182.9940</td>\n",
       "      <td>3</td>\n",
       "      <td>0.80</td>\n",
       "      <td>-320.2395</td>\n",
       "      <td>29.070</td>\n",
       "      <td>High</td>\n",
       "    </tr>\n",
       "    <tr>\n",
       "      <th>13833</th>\n",
       "      <td>17618</td>\n",
       "      <td>ES-2013-3149063</td>\n",
       "      <td>5/30/2013</td>\n",
       "      <td>6/2/2013</td>\n",
       "      <td>First Class</td>\n",
       "      <td>BC-11125</td>\n",
       "      <td>Becky Castell</td>\n",
       "      <td>Home Office</td>\n",
       "      <td>Offenburg</td>\n",
       "      <td>Baden-Württemberg</td>\n",
       "      <td>...</td>\n",
       "      <td>OFF-AR-10004492</td>\n",
       "      <td>Office Supplies</td>\n",
       "      <td>Art</td>\n",
       "      <td>BIC Canvas, Blue</td>\n",
       "      <td>268.5000</td>\n",
       "      <td>5</td>\n",
       "      <td>0.00</td>\n",
       "      <td>21.4500</td>\n",
       "      <td>22.070</td>\n",
       "      <td>High</td>\n",
       "    </tr>\n",
       "    <tr>\n",
       "      <th>48630</th>\n",
       "      <td>33991</td>\n",
       "      <td>CA-2011-143182</td>\n",
       "      <td>10/15/2011</td>\n",
       "      <td>10/20/2011</td>\n",
       "      <td>Standard Class</td>\n",
       "      <td>DL-12865</td>\n",
       "      <td>Dan Lawera</td>\n",
       "      <td>Consumer</td>\n",
       "      <td>Hialeah</td>\n",
       "      <td>Florida</td>\n",
       "      <td>...</td>\n",
       "      <td>FUR-FU-10004270</td>\n",
       "      <td>Furniture</td>\n",
       "      <td>Furnishings</td>\n",
       "      <td>Executive Impressions 13\" Clairmont Wall Clock</td>\n",
       "      <td>15.3840</td>\n",
       "      <td>1</td>\n",
       "      <td>0.20</td>\n",
       "      <td>4.0383</td>\n",
       "      <td>0.620</td>\n",
       "      <td>High</td>\n",
       "    </tr>\n",
       "    <tr>\n",
       "      <th>30264</th>\n",
       "      <td>304</td>\n",
       "      <td>MX-2014-160402</td>\n",
       "      <td>10/16/2014</td>\n",
       "      <td>10/21/2014</td>\n",
       "      <td>Standard Class</td>\n",
       "      <td>TB-21280</td>\n",
       "      <td>Toby Braunhardt</td>\n",
       "      <td>Consumer</td>\n",
       "      <td>Mexico City</td>\n",
       "      <td>Distrito Federal</td>\n",
       "      <td>...</td>\n",
       "      <td>OFF-ST-10002522</td>\n",
       "      <td>Office Supplies</td>\n",
       "      <td>Storage</td>\n",
       "      <td>Tenex Folders, Blue</td>\n",
       "      <td>46.4400</td>\n",
       "      <td>3</td>\n",
       "      <td>0.00</td>\n",
       "      <td>18.5400</td>\n",
       "      <td>5.373</td>\n",
       "      <td>Medium</td>\n",
       "    </tr>\n",
       "    <tr>\n",
       "      <th>11227</th>\n",
       "      <td>24441</td>\n",
       "      <td>ID-2012-46574</td>\n",
       "      <td>1/20/2012</td>\n",
       "      <td>1/25/2012</td>\n",
       "      <td>Second Class</td>\n",
       "      <td>KL-16555</td>\n",
       "      <td>Kelly Lampkin</td>\n",
       "      <td>Corporate</td>\n",
       "      <td>Bandung</td>\n",
       "      <td>Jawa Barat</td>\n",
       "      <td>...</td>\n",
       "      <td>TEC-PH-10001354</td>\n",
       "      <td>Technology</td>\n",
       "      <td>Phones</td>\n",
       "      <td>Motorola Speaker Phone, Full Size</td>\n",
       "      <td>326.3643</td>\n",
       "      <td>3</td>\n",
       "      <td>0.17</td>\n",
       "      <td>43.2243</td>\n",
       "      <td>28.790</td>\n",
       "      <td>Medium</td>\n",
       "    </tr>\n",
       "    <tr>\n",
       "      <th>45528</th>\n",
       "      <td>19548</td>\n",
       "      <td>ES-2014-2457136</td>\n",
       "      <td>2/27/2014</td>\n",
       "      <td>3/1/2014</td>\n",
       "      <td>First Class</td>\n",
       "      <td>ER-13855</td>\n",
       "      <td>Elpida Rittenbach</td>\n",
       "      <td>Corporate</td>\n",
       "      <td>Wasquehal</td>\n",
       "      <td>Nord-Pas-de-Calais</td>\n",
       "      <td>...</td>\n",
       "      <td>OFF-LA-10003511</td>\n",
       "      <td>Office Supplies</td>\n",
       "      <td>Labels</td>\n",
       "      <td>Avery Round Labels, Adjustable</td>\n",
       "      <td>5.0400</td>\n",
       "      <td>1</td>\n",
       "      <td>0.00</td>\n",
       "      <td>0.8400</td>\n",
       "      <td>1.140</td>\n",
       "      <td>High</td>\n",
       "    </tr>\n",
       "    <tr>\n",
       "      <th>42817</th>\n",
       "      <td>36669</td>\n",
       "      <td>CA-2012-118738</td>\n",
       "      <td>10/24/2012</td>\n",
       "      <td>10/30/2012</td>\n",
       "      <td>Standard Class</td>\n",
       "      <td>AG-10495</td>\n",
       "      <td>Andrew Gjertsen</td>\n",
       "      <td>Corporate</td>\n",
       "      <td>Houston</td>\n",
       "      <td>Texas</td>\n",
       "      <td>...</td>\n",
       "      <td>OFF-PA-10003177</td>\n",
       "      <td>Office Supplies</td>\n",
       "      <td>Paper</td>\n",
       "      <td>Xerox 1999</td>\n",
       "      <td>15.5520</td>\n",
       "      <td>3</td>\n",
       "      <td>0.20</td>\n",
       "      <td>5.4432</td>\n",
       "      <td>1.650</td>\n",
       "      <td>Low</td>\n",
       "    </tr>\n",
       "    <tr>\n",
       "      <th>32877</th>\n",
       "      <td>33631</td>\n",
       "      <td>CA-2011-140886</td>\n",
       "      <td>9/30/2011</td>\n",
       "      <td>10/4/2011</td>\n",
       "      <td>Standard Class</td>\n",
       "      <td>KW-16570</td>\n",
       "      <td>Kelly Williams</td>\n",
       "      <td>Consumer</td>\n",
       "      <td>Clarksville</td>\n",
       "      <td>Tennessee</td>\n",
       "      <td>...</td>\n",
       "      <td>OFF-AP-10000696</td>\n",
       "      <td>Office Supplies</td>\n",
       "      <td>Appliances</td>\n",
       "      <td>Holmes Odor Grabber</td>\n",
       "      <td>69.2160</td>\n",
       "      <td>6</td>\n",
       "      <td>0.20</td>\n",
       "      <td>11.2476</td>\n",
       "      <td>4.320</td>\n",
       "      <td>Medium</td>\n",
       "    </tr>\n",
       "  </tbody>\n",
       "</table>\n",
       "<p>10 rows × 24 columns</p>\n",
       "</div>"
      ],
      "text/plain": [
       "       Row ID         Order ID  Order Date   Ship Date       Ship Mode  \\\n",
       "1266    30369    ID-2012-82393   4/20/2012   4/22/2012    Second Class   \n",
       "32198    3262   MX-2011-142097   5/10/2011   5/15/2011    Second Class   \n",
       "11129   31976   US-2014-119438   3/19/2014   3/24/2014  Standard Class   \n",
       "13833   17618  ES-2013-3149063   5/30/2013    6/2/2013     First Class   \n",
       "48630   33991   CA-2011-143182  10/15/2011  10/20/2011  Standard Class   \n",
       "30264     304   MX-2014-160402  10/16/2014  10/21/2014  Standard Class   \n",
       "11227   24441    ID-2012-46574   1/20/2012   1/25/2012    Second Class   \n",
       "45528   19548  ES-2014-2457136   2/27/2014    3/1/2014     First Class   \n",
       "42817   36669   CA-2012-118738  10/24/2012  10/30/2012  Standard Class   \n",
       "32877   33631   CA-2011-140886   9/30/2011   10/4/2011  Standard Class   \n",
       "\n",
       "      Customer ID      Customer Name      Segment         City  \\\n",
       "1266     CL-12700       Craig Leslie  Home Office     Auckland   \n",
       "32198    SC-20800     Stuart Calhoun     Consumer      Tijuana   \n",
       "11129    CD-11980       Carol Darley     Consumer        Tyler   \n",
       "13833    BC-11125      Becky Castell  Home Office    Offenburg   \n",
       "48630    DL-12865         Dan Lawera     Consumer      Hialeah   \n",
       "30264    TB-21280    Toby Braunhardt     Consumer  Mexico City   \n",
       "11227    KL-16555      Kelly Lampkin    Corporate      Bandung   \n",
       "45528    ER-13855  Elpida Rittenbach    Corporate    Wasquehal   \n",
       "42817    AG-10495    Andrew Gjertsen    Corporate      Houston   \n",
       "32877    KW-16570     Kelly Williams     Consumer  Clarksville   \n",
       "\n",
       "                    State  ...       Product ID         Category Sub-Category  \\\n",
       "1266             Auckland  ...  FUR-CH-10004199        Furniture       Chairs   \n",
       "32198     Baja California  ...  OFF-BI-10003372  Office Supplies      Binders   \n",
       "11129               Texas  ...  OFF-BI-10004632  Office Supplies      Binders   \n",
       "13833   Baden-Württemberg  ...  OFF-AR-10004492  Office Supplies          Art   \n",
       "48630             Florida  ...  FUR-FU-10004270        Furniture  Furnishings   \n",
       "30264    Distrito Federal  ...  OFF-ST-10002522  Office Supplies      Storage   \n",
       "11227          Jawa Barat  ...  TEC-PH-10001354       Technology       Phones   \n",
       "45528  Nord-Pas-de-Calais  ...  OFF-LA-10003511  Office Supplies       Labels   \n",
       "42817               Texas  ...  OFF-PA-10003177  Office Supplies        Paper   \n",
       "32877           Tennessee  ...  OFF-AP-10000696  Office Supplies   Appliances   \n",
       "\n",
       "                                         Product Name     Sales Quantity  \\\n",
       "1266     SAFCO Executive Leather Armchair, Adjustable  556.7040        2   \n",
       "32198                  Ibico Binding Machine, Durable   70.5600        2   \n",
       "11129             Ibico Hi-Tech Manual Binding System  182.9940        3   \n",
       "13833                                BIC Canvas, Blue  268.5000        5   \n",
       "48630  Executive Impressions 13\" Clairmont Wall Clock   15.3840        1   \n",
       "30264                             Tenex Folders, Blue   46.4400        3   \n",
       "11227               Motorola Speaker Phone, Full Size  326.3643        3   \n",
       "45528                  Avery Round Labels, Adjustable    5.0400        1   \n",
       "42817                                      Xerox 1999   15.5520        3   \n",
       "32877                             Holmes Odor Grabber   69.2160        6   \n",
       "\n",
       "      Discount    Profit  Shipping Cost  Order Priority  \n",
       "1266      0.40 -306.2160        177.360        Critical  \n",
       "32198     0.00    0.6800          4.577          Medium  \n",
       "11129     0.80 -320.2395         29.070            High  \n",
       "13833     0.00   21.4500         22.070            High  \n",
       "48630     0.20    4.0383          0.620            High  \n",
       "30264     0.00   18.5400          5.373          Medium  \n",
       "11227     0.17   43.2243         28.790          Medium  \n",
       "45528     0.00    0.8400          1.140            High  \n",
       "42817     0.20    5.4432          1.650             Low  \n",
       "32877     0.20   11.2476          4.320          Medium  \n",
       "\n",
       "[10 rows x 24 columns]"
      ]
     },
     "execution_count": 10,
     "metadata": {},
     "output_type": "execute_result"
    }
   ],
   "source": [
    "df.sample(10)"
   ]
  },
  {
   "cell_type": "code",
   "execution_count": 11,
   "id": "1c13e173",
   "metadata": {},
   "outputs": [
    {
     "data": {
      "text/plain": [
       "array(['Technology', 'Furniture', 'Office Supplies'], dtype=object)"
      ]
     },
     "execution_count": 11,
     "metadata": {},
     "output_type": "execute_result"
    }
   ],
   "source": [
    "df[\"Category\"].unique()"
   ]
  },
  {
   "cell_type": "code",
   "execution_count": 12,
   "id": "10e21c9f",
   "metadata": {},
   "outputs": [
    {
     "data": {
      "text/plain": [
       "2     12748\n",
       "3      9682\n",
       "1      8963\n",
       "4      6385\n",
       "5      4882\n",
       "6      3020\n",
       "7      2385\n",
       "8      1361\n",
       "9       987\n",
       "10      276\n",
       "14      186\n",
       "12      176\n",
       "11      156\n",
       "13       83\n",
       "Name: Quantity, dtype: int64"
      ]
     },
     "execution_count": 12,
     "metadata": {},
     "output_type": "execute_result"
    }
   ],
   "source": [
    "df[\"Quantity\"].value_counts()"
   ]
  },
  {
   "cell_type": "code",
   "execution_count": 13,
   "id": "38245e67",
   "metadata": {},
   "outputs": [
    {
     "data": {
      "text/html": [
       "<div>\n",
       "<style scoped>\n",
       "    .dataframe tbody tr th:only-of-type {\n",
       "        vertical-align: middle;\n",
       "    }\n",
       "\n",
       "    .dataframe tbody tr th {\n",
       "        vertical-align: top;\n",
       "    }\n",
       "\n",
       "    .dataframe thead th {\n",
       "        text-align: right;\n",
       "    }\n",
       "</style>\n",
       "<table border=\"1\" class=\"dataframe\">\n",
       "  <thead>\n",
       "    <tr style=\"text-align: right;\">\n",
       "      <th></th>\n",
       "      <th>Row ID</th>\n",
       "      <th>Order ID</th>\n",
       "      <th>Order Date</th>\n",
       "      <th>Ship Date</th>\n",
       "      <th>Ship Mode</th>\n",
       "      <th>Customer ID</th>\n",
       "      <th>Customer Name</th>\n",
       "      <th>Segment</th>\n",
       "      <th>City</th>\n",
       "      <th>State</th>\n",
       "      <th>...</th>\n",
       "      <th>Product ID</th>\n",
       "      <th>Category</th>\n",
       "      <th>Sub-Category</th>\n",
       "      <th>Product Name</th>\n",
       "      <th>Sales</th>\n",
       "      <th>Quantity</th>\n",
       "      <th>Discount</th>\n",
       "      <th>Profit</th>\n",
       "      <th>Shipping Cost</th>\n",
       "      <th>Order Priority</th>\n",
       "    </tr>\n",
       "  </thead>\n",
       "  <tbody>\n",
       "    <tr>\n",
       "      <th>4</th>\n",
       "      <td>47221</td>\n",
       "      <td>SG-2013-4320</td>\n",
       "      <td>11/5/2013</td>\n",
       "      <td>11/6/2013</td>\n",
       "      <td>Same Day</td>\n",
       "      <td>RH-9495</td>\n",
       "      <td>Rick Hansen</td>\n",
       "      <td>Consumer</td>\n",
       "      <td>Dakar</td>\n",
       "      <td>Dakar</td>\n",
       "      <td>...</td>\n",
       "      <td>TEC-SHA-10000501</td>\n",
       "      <td>Technology</td>\n",
       "      <td>Copiers</td>\n",
       "      <td>Sharp Wireless Fax, High-Speed</td>\n",
       "      <td>2832.960</td>\n",
       "      <td>8</td>\n",
       "      <td>0.0</td>\n",
       "      <td>311.520</td>\n",
       "      <td>903.04</td>\n",
       "      <td>Critical</td>\n",
       "    </tr>\n",
       "    <tr>\n",
       "      <th>5</th>\n",
       "      <td>22732</td>\n",
       "      <td>IN-2013-42360</td>\n",
       "      <td>6/28/2013</td>\n",
       "      <td>7/1/2013</td>\n",
       "      <td>Second Class</td>\n",
       "      <td>JM-15655</td>\n",
       "      <td>Jim Mitchum</td>\n",
       "      <td>Corporate</td>\n",
       "      <td>Sydney</td>\n",
       "      <td>New South Wales</td>\n",
       "      <td>...</td>\n",
       "      <td>TEC-PH-10000030</td>\n",
       "      <td>Technology</td>\n",
       "      <td>Phones</td>\n",
       "      <td>Samsung Smart Phone, with Caller ID</td>\n",
       "      <td>2862.675</td>\n",
       "      <td>5</td>\n",
       "      <td>0.1</td>\n",
       "      <td>763.275</td>\n",
       "      <td>897.35</td>\n",
       "      <td>Critical</td>\n",
       "    </tr>\n",
       "  </tbody>\n",
       "</table>\n",
       "<p>2 rows × 24 columns</p>\n",
       "</div>"
      ],
      "text/plain": [
       "   Row ID       Order ID Order Date  Ship Date     Ship Mode Customer ID  \\\n",
       "4   47221   SG-2013-4320  11/5/2013  11/6/2013      Same Day     RH-9495   \n",
       "5   22732  IN-2013-42360  6/28/2013   7/1/2013  Second Class    JM-15655   \n",
       "\n",
       "  Customer Name    Segment    City            State  ...        Product ID  \\\n",
       "4   Rick Hansen   Consumer   Dakar            Dakar  ...  TEC-SHA-10000501   \n",
       "5   Jim Mitchum  Corporate  Sydney  New South Wales  ...   TEC-PH-10000030   \n",
       "\n",
       "     Category Sub-Category                         Product Name     Sales  \\\n",
       "4  Technology      Copiers       Sharp Wireless Fax, High-Speed  2832.960   \n",
       "5  Technology       Phones  Samsung Smart Phone, with Caller ID  2862.675   \n",
       "\n",
       "  Quantity Discount   Profit  Shipping Cost  Order Priority  \n",
       "4        8      0.0  311.520         903.04        Critical  \n",
       "5        5      0.1  763.275         897.35        Critical  \n",
       "\n",
       "[2 rows x 24 columns]"
      ]
     },
     "execution_count": 13,
     "metadata": {},
     "output_type": "execute_result"
    }
   ],
   "source": [
    "df.loc[4:5]"
   ]
  },
  {
   "cell_type": "code",
   "execution_count": 14,
   "id": "efa6f7ee",
   "metadata": {},
   "outputs": [
    {
     "data": {
      "text/plain": [
       "Row ID                                     47221\n",
       "Order ID                            SG-2013-4320\n",
       "Order Date                             11/5/2013\n",
       "Ship Date                              11/6/2013\n",
       "Ship Mode                               Same Day\n",
       "Customer ID                              RH-9495\n",
       "Customer Name                        Rick Hansen\n",
       "Segment                                 Consumer\n",
       "City                                       Dakar\n",
       "State                                      Dakar\n",
       "Country                                  Senegal\n",
       "Postal Code                                  NaN\n",
       "Market                                    Africa\n",
       "Region                                    Africa\n",
       "Product ID                      TEC-SHA-10000501\n",
       "Category                              Technology\n",
       "Sub-Category                             Copiers\n",
       "Product Name      Sharp Wireless Fax, High-Speed\n",
       "Sales                                    2832.96\n",
       "Quantity                                       8\n",
       "Discount                                     0.0\n",
       "Profit                                    311.52\n",
       "Shipping Cost                             903.04\n",
       "Order Priority                          Critical\n",
       "Name: 4, dtype: object"
      ]
     },
     "execution_count": 14,
     "metadata": {},
     "output_type": "execute_result"
    }
   ],
   "source": [
    "df.iloc[4]"
   ]
  },
  {
   "cell_type": "code",
   "execution_count": 15,
   "id": "1879b231",
   "metadata": {},
   "outputs": [
    {
     "data": {
      "text/plain": [
       "Row ID              int64\n",
       "Order ID           object\n",
       "Order Date         object\n",
       "Ship Date          object\n",
       "Ship Mode          object\n",
       "Customer ID        object\n",
       "Customer Name      object\n",
       "Segment            object\n",
       "City               object\n",
       "State              object\n",
       "Country            object\n",
       "Postal Code       float64\n",
       "Market             object\n",
       "Region             object\n",
       "Product ID         object\n",
       "Category           object\n",
       "Sub-Category       object\n",
       "Product Name       object\n",
       "Sales             float64\n",
       "Quantity            int64\n",
       "Discount          float64\n",
       "Profit            float64\n",
       "Shipping Cost     float64\n",
       "Order Priority     object\n",
       "dtype: object"
      ]
     },
     "execution_count": 15,
     "metadata": {},
     "output_type": "execute_result"
    }
   ],
   "source": [
    "df.dtypes"
   ]
  },
  {
   "cell_type": "code",
   "execution_count": 16,
   "id": "e4d25fc2",
   "metadata": {},
   "outputs": [
    {
     "data": {
      "text/plain": [
       "Row ID                0\n",
       "Order ID              0\n",
       "Order Date            0\n",
       "Ship Date             0\n",
       "Ship Mode             0\n",
       "Customer ID           0\n",
       "Customer Name         0\n",
       "Segment               0\n",
       "City                  0\n",
       "State                 0\n",
       "Country               0\n",
       "Postal Code       41296\n",
       "Market                0\n",
       "Region                0\n",
       "Product ID            0\n",
       "Category              0\n",
       "Sub-Category          0\n",
       "Product Name          0\n",
       "Sales                 0\n",
       "Quantity              0\n",
       "Discount              0\n",
       "Profit                0\n",
       "Shipping Cost         0\n",
       "Order Priority        0\n",
       "dtype: int64"
      ]
     },
     "execution_count": 16,
     "metadata": {},
     "output_type": "execute_result"
    }
   ],
   "source": [
    "df.isnull().sum()"
   ]
  },
  {
   "cell_type": "markdown",
   "id": "65fc37d7",
   "metadata": {
    "id": "NHIzT17fu0ST"
   },
   "source": [
    "# Handling Missing Values\n"
   ]
  },
  {
   "cell_type": "code",
   "execution_count": 17,
   "id": "e77d3088",
   "metadata": {},
   "outputs": [
    {
     "data": {
      "text/plain": [
       "0        False\n",
       "1         True\n",
       "2         True\n",
       "3         True\n",
       "4         True\n",
       "         ...  \n",
       "51285     True\n",
       "51286    False\n",
       "51287    False\n",
       "51288     True\n",
       "51289     True\n",
       "Name: Postal Code, Length: 51290, dtype: bool"
      ]
     },
     "execution_count": 17,
     "metadata": {},
     "output_type": "execute_result"
    }
   ],
   "source": [
    "df[\"Postal Code\"].isnull()"
   ]
  },
  {
   "cell_type": "code",
   "execution_count": 18,
   "id": "0cd2afc0",
   "metadata": {},
   "outputs": [],
   "source": [
    "df.dropna(axis=1,inplace=True)"
   ]
  },
  {
   "cell_type": "code",
   "execution_count": 19,
   "id": "f5042467",
   "metadata": {},
   "outputs": [
    {
     "data": {
      "text/plain": [
       "Row ID            0\n",
       "Order ID          0\n",
       "Order Date        0\n",
       "Ship Date         0\n",
       "Ship Mode         0\n",
       "Customer ID       0\n",
       "Customer Name     0\n",
       "Segment           0\n",
       "City              0\n",
       "State             0\n",
       "Country           0\n",
       "Market            0\n",
       "Region            0\n",
       "Product ID        0\n",
       "Category          0\n",
       "Sub-Category      0\n",
       "Product Name      0\n",
       "Sales             0\n",
       "Quantity          0\n",
       "Discount          0\n",
       "Profit            0\n",
       "Shipping Cost     0\n",
       "Order Priority    0\n",
       "dtype: int64"
      ]
     },
     "execution_count": 19,
     "metadata": {},
     "output_type": "execute_result"
    }
   ],
   "source": [
    "df.isnull().sum()"
   ]
  },
  {
   "cell_type": "markdown",
   "id": "19e725fe",
   "metadata": {},
   "source": [
    "Missing values, often denoted as NaN (Not a Number) or null. Dealing with these values is important because they can mess up your calculations and make your results wrong.in our dataset we ignore the rows or columns with missing values.\n",
    "The missing values are present in the postal code column.\n",
    "To remove this rows or columns for missing vales. "
   ]
  },
  {
   "cell_type": "markdown",
   "id": "b77195ca",
   "metadata": {
    "id": "NHIzT17fu0ST"
   },
   "source": [
    "# Data Visualizations"
   ]
  },
  {
   "cell_type": "code",
   "execution_count": 20,
   "id": "7eb19b89",
   "metadata": {},
   "outputs": [],
   "source": [
    "import numpy as np\n",
    "import pandas as pd\n",
    "import matplotlib as mpl\n",
    "import matplotlib.pyplot as pl"
   ]
  },
  {
   "cell_type": "code",
   "execution_count": 21,
   "id": "4ef95a10",
   "metadata": {},
   "outputs": [
    {
     "data": {
      "text/plain": [
       "0         7\n",
       "1         2\n",
       "2        10\n",
       "3         1\n",
       "4        11\n",
       "         ..\n",
       "51285     6\n",
       "51286     6\n",
       "51287    12\n",
       "51288     2\n",
       "51289     5\n",
       "Name: month, Length: 51290, dtype: int64"
      ]
     },
     "execution_count": 21,
     "metadata": {},
     "output_type": "execute_result"
    }
   ],
   "source": [
    "df['month']=pd.to_datetime(df['Order Date']).dt.month\n",
    "df['month']"
   ]
  },
  {
   "cell_type": "code",
   "execution_count": 22,
   "id": "da6c7c37",
   "metadata": {},
   "outputs": [
    {
     "data": {
      "text/plain": [
       "0        2012\n",
       "1        2013\n",
       "2        2013\n",
       "3        2013\n",
       "4        2013\n",
       "         ... \n",
       "51285    2014\n",
       "51286    2014\n",
       "51287    2013\n",
       "51288    2012\n",
       "51289    2012\n",
       "Name: year, Length: 51290, dtype: int64"
      ]
     },
     "execution_count": 22,
     "metadata": {},
     "output_type": "execute_result"
    }
   ],
   "source": [
    "df['year']=pd.to_datetime(df['Order Date']).dt.year\n",
    "df['year']"
   ]
  },
  {
   "cell_type": "code",
   "execution_count": 23,
   "id": "a85fcb85",
   "metadata": {},
   "outputs": [
    {
     "data": {
      "text/plain": [
       "month\n",
       "1     259.766707\n",
       "2     250.802297\n",
       "3     253.871809\n",
       "4     228.512009\n",
       "5     241.262967\n",
       "6     238.176093\n",
       "7     236.696727\n",
       "8     254.791880\n",
       "9     240.565709\n",
       "10    260.174696\n",
       "11    244.603807\n",
       "12    250.837952\n",
       "Name: Sales, dtype: float64"
      ]
     },
     "execution_count": 23,
     "metadata": {},
     "output_type": "execute_result"
    }
   ],
   "source": [
    "df.groupby('month')['Sales'].mean()"
   ]
  },
  {
   "cell_type": "code",
   "execution_count": 24,
   "id": "e6fa469e",
   "metadata": {},
   "outputs": [
    {
     "data": {
      "image/png": "[encoded data removed]",
      "text/plain": [
       "<Figure size 640x480 with 1 Axes>"
      ]
     },
     "metadata": {},
     "output_type": "display_data"
    }
   ],
   "source": [
    "df1=df.groupby('month')['Sales']\n",
    "df1=df1.mean()\n",
    "df1.plot(kind='line',color='red')\n",
    "pl.title('Monthly_sales')\n",
    "pl.xlabel('MONTHS')\n",
    "pl.ylabel('SALES')\n",
    "pl.savefig('Monthly_Sales')\n",
    "pl.show()"
   ]
  },
  {
   "cell_type": "markdown",
   "id": "ec56de2e",
   "metadata": {},
   "source": [
    "The line graph blw the sales and months represent the sales for a particular month.This visualization can help\n",
    "identify changes in sales performance over the months covered in the dataset.In the fig the 4 month shows a \n",
    "decrement in the sales and 10 month shows a increment in the sales."
   ]
  },
  {
   "cell_type": "code",
   "execution_count": 25,
   "id": "2af02b71",
   "metadata": {},
   "outputs": [
    {
     "data": {
      "image/png": "[encoded data removed]",
      "text/plain": [
       "<Figure size 640x480 with 1 Axes>"
      ]
     },
     "metadata": {},
     "output_type": "display_data"
    }
   ],
   "source": [
    "color_gr=['b','r','g','b','r','g','b','r','g','b','r','g']\n",
    "df1=df.groupby('month')['Profit']\n",
    "df1=df1.mean()\n",
    "df1.plot(kind='bar',color=color_gr)\n",
    "pl.title('Monthly_Profits')\n",
    "pl.xlabel('MONTHS')\n",
    "pl.ylabel('PROFITS')\n",
    "pl.savefig('Monthly_Profit')\n",
    "pl.show()"
   ]
  },
  {
   "cell_type": "markdown",
   "id": "3b0d6601",
   "metadata": {},
   "source": [
    "The line graph blw the profit and months represent the profit for a particular month.This visualization can help\n",
    "identify changes in profit performance over the months covered in the dataset.In the fig the 4 month shows a \n",
    "decrement in the profit and 10 month shows a increment in the profit."
   ]
  },
  {
   "cell_type": "code",
   "execution_count": 26,
   "id": "5f188c70",
   "metadata": {},
   "outputs": [
    {
     "data": {
      "image/png": "[encoded data removed]",
      "text/plain": [
       "<Figure size 700x700 with 1 Axes>"
      ]
     },
     "metadata": {},
     "output_type": "display_data"
    }
   ],
   "source": [
    "df1=df.groupby('Sub-Category')['Sales']\n",
    "df1=df1.sum()\n",
    "df1.plot(kind='pie',autopct='%1.1f%%',pctdistance=0.8,figsize=(7,7))\n",
    "pl.title(\"SALES OF PRODUCTS\",y=1.1)\n",
    "pl.savefig('product_sales')\n",
    "pl.show()"
   ]
  },
  {
   "cell_type": "markdown",
   "id": "923a3567",
   "metadata": {},
   "source": [
    "The pie chart shows you how much each type of product is selling in the global super store.if one slice of the pie\n",
    "is bigger,it means that type of product sells more than the others.In above fig phones shows highest sells."
   ]
  },
  {
   "cell_type": "code",
   "execution_count": 27,
   "id": "062bb8aa",
   "metadata": {},
   "outputs": [],
   "source": [
    "df1=df[df['Shipping Cost']>600]"
   ]
  },
  {
   "cell_type": "code",
   "execution_count": 28,
   "id": "1ef147c3",
   "metadata": {},
   "outputs": [
    {
     "data": {
      "image/png": "[encoded data removed]",
      "text/plain": [
       "<Figure size 640x480 with 1 Axes>"
      ]
     },
     "metadata": {},
     "output_type": "display_data"
    }
   ],
   "source": [
    "df1.plot(kind='scatter',x='Shipping Cost',y='Profit')\n",
    "pl.xlabel('SHIPPING COST')\n",
    "pl.ylabel('PROFIT')\n",
    "pl.title('PROFIT BASED ON SHIPPING COST')\n",
    "pl.savefig('scatter_pl')\n",
    "pl.show()"
   ]
  },
  {
   "cell_type": "markdown",
   "id": "9a6b79d3",
   "metadata": {},
   "source": [
    "The above fig shows the scatter plot between the profit and shipping cost.the line shows a negitive correlation\n",
    "i.e higher shipping cost leads to lower profits.in the above fig the points on the plot mostly go down and \n",
    "to the right,it suggests that spending more on the shipping might actually reduce on profit."
   ]
  },
  {
   "cell_type": "code",
   "execution_count": 29,
   "id": "b8b7d3a4",
   "metadata": {},
   "outputs": [
    {
     "data": {
      "image/png": "[encoded data removed]",
      "text/plain": [
       "<Figure size 640x480 with 1 Axes>"
      ]
     },
     "metadata": {},
     "output_type": "display_data"
    }
   ],
   "source": [
    "import seaborn as sns\n",
    "sns.set(style='darkgrid')\n",
    "sns.regplot(x=df1['Shipping Cost'],y=df1['Profit'],color='black')\n",
    "pl.title('Profit Based on Shipping Cost')\n",
    "pl.savefig('regression_plot')\n",
    "pl.show()"
   ]
  },
  {
   "cell_type": "markdown",
   "id": "974ac3c4",
   "metadata": {},
   "source": [
    "The figure displays a regression plot illustrating how profit changes with varying shipping costs. The black line indicates the trend in the data, revealing the relationship between shipping cost and profit. With a downward slope, the line suggests that higher shipping costs correlate with lower profits. Each dot on the graph represents an individual data point, indicating the specific position of each observation concerning both shipping cost and profit"
   ]
  },
  {
   "cell_type": "code",
   "execution_count": 30,
   "id": "521e1ef4",
   "metadata": {},
   "outputs": [],
   "source": [
    "df1=df[df['Sales']>7000]"
   ]
  },
  {
   "cell_type": "code",
   "execution_count": 31,
   "id": "ecf8d2cb",
   "metadata": {},
   "outputs": [
    {
     "data": {
      "image/png": "[encoded data removed]",
      "text/plain": [
       "<Figure size 640x480 with 1 Axes>"
      ]
     },
     "metadata": {},
     "output_type": "display_data"
    }
   ],
   "source": [
    "df1.plot(kind='scatter',x='Sales',y='Profit',s=df1['Quantity']*50,alpha=0.5,\n",
    "                    color=\"blue\")\n",
    "pl.xlabel('SALES')\n",
    "pl.ylabel('PROFIT')\n",
    "pl.title('Bubble Plot blw Sales and Profit')\n",
    "pl.savefig('bubble plot')\n",
    "pl.show()"
   ]
  },
  {
   "cell_type": "markdown",
   "id": "50eb75fd",
   "metadata": {},
   "source": [
    "The above fig is the bubble plot blw sales and profit and the size of bubble typically corresponds to the quantity.this plot reveal that higher quantity sold result in higher profits."
   ]
  },
  {
   "cell_type": "code",
   "execution_count": 32,
   "id": "b153ee2b",
   "metadata": {},
   "outputs": [
    {
     "data": {
      "image/png": "[encoded data removed]",
      "text/plain": [
       "<Figure size 640x480 with 1 Axes>"
      ]
     },
     "metadata": {},
     "output_type": "display_data"
    }
   ],
   "source": [
    "df1=df.groupby('Sub-Category')['Sales']\n",
    "df1=df1.mean()\n",
    "df1.plot(kind='area')\n",
    "pl.title('PRODUCT SALES')\n",
    "pl.xlabel('PRODUCTS')\n",
    "pl.ylabel('SALES')\n",
    "pl.savefig('Product Sales')\n",
    "pl.show()"
   ]
  },
  {
   "cell_type": "markdown",
   "id": "9af4e2d0",
   "metadata": {},
   "source": [
    "The above fig shows area plot on sales for different product sub-categories helps you see which ones sell the most.It helps you understand which products are popular and if there are any patterns in how they sell. This information can guide decisions about what products to focus on and how to plan for things like inventory and marketing."
   ]
  },
  {
   "cell_type": "code",
   "execution_count": 33,
   "id": "c51ef20b",
   "metadata": {},
   "outputs": [
    {
     "data": {
      "image/png": "[encoded data removed]",
      "text/plain": [
       "<Figure size 640x480 with 1 Axes>"
      ]
     },
     "metadata": {},
     "output_type": "display_data"
    }
   ],
   "source": [
    "df1=df.groupby('year')['Sales']\n",
    "df1=df1.mean()\n",
    "df1.plot(kind='box',color='g')\n",
    "pl.title('Box plot for average sales from 2011-2014')\n",
    "pl.ylabel('Average sales')\n",
    "pl.savefig('Box plot')\n",
    "pl.show()"
   ]
  },
  {
   "cell_type": "markdown",
   "id": "9d37d869",
   "metadata": {},
   "source": [
    "The fig shows box plot on sales for that year.The box in box plot shows the middle 50% of the data, with the line inside indicating the median (middle) value of sales for each year.it helps see if sales go up, down, or stay the same over time If the box in the box plot is lower (closer to the bottom), it indicates that the sales for that year are generally lower. This suggests that the sales performance might be weaker or declining compared to other years in the dataset"
   ]
  },
  {
   "cell_type": "code",
   "execution_count": 34,
   "id": "950045e3",
   "metadata": {},
   "outputs": [
    {
     "data": {
      "image/png": "[encoded data removed]",
      "text/plain": [
       "<Figure size 640x480 with 1 Axes>"
      ]
     },
     "metadata": {},
     "output_type": "display_data"
    }
   ],
   "source": [
    "pl.hist(df['Quantity'],bins=20,edgecolor='White',alpha=0.7)\n",
    "pl.title('Distribution of Quantity')\n",
    "pl.xlabel('QUANTITY')\n",
    "pl.ylabel('FREQUENCY')\n",
    "pl.savefig('Histogram')\n",
    "pl.show()"
   ]
  },
  {
   "cell_type": "markdown",
   "id": "6ab799c8",
   "metadata": {},
   "source": [
    "The figure displays a histogram illustrating the frequency of the quantity.The output shows how many times different quantities appear in the dataset. If a quantity appears a lot, there will be a tall bar for it on the histogram. It helps to see which quantities are common and which are rare in the dataset."
   ]
  },
  {
   "cell_type": "markdown",
   "id": "ee08dbde",
   "metadata": {},
   "source": [
    "# **Model**\n"
   ]
  },
  {
   "cell_type": "code",
   "execution_count": 35,
   "id": "25abba29",
   "metadata": {},
   "outputs": [
    {
     "data": {
      "text/html": [
       "<div>\n",
       "<style scoped>\n",
       "    .dataframe tbody tr th:only-of-type {\n",
       "        vertical-align: middle;\n",
       "    }\n",
       "\n",
       "    .dataframe tbody tr th {\n",
       "        vertical-align: top;\n",
       "    }\n",
       "\n",
       "    .dataframe thead th {\n",
       "        text-align: right;\n",
       "    }\n",
       "</style>\n",
       "<table border=\"1\" class=\"dataframe\">\n",
       "  <thead>\n",
       "    <tr style=\"text-align: right;\">\n",
       "      <th></th>\n",
       "      <th>Profit</th>\n",
       "      <th>Sales</th>\n",
       "      <th>Order Priority</th>\n",
       "      <th>Shipping Cost</th>\n",
       "      <th>Quantity</th>\n",
       "      <th>Discount</th>\n",
       "    </tr>\n",
       "  </thead>\n",
       "  <tbody>\n",
       "    <tr>\n",
       "      <th>0</th>\n",
       "      <td>762.1845</td>\n",
       "      <td>2309.650</td>\n",
       "      <td>Critical</td>\n",
       "      <td>933.570</td>\n",
       "      <td>7</td>\n",
       "      <td>0.0</td>\n",
       "    </tr>\n",
       "    <tr>\n",
       "      <th>1</th>\n",
       "      <td>-288.7650</td>\n",
       "      <td>3709.395</td>\n",
       "      <td>Critical</td>\n",
       "      <td>923.630</td>\n",
       "      <td>9</td>\n",
       "      <td>0.1</td>\n",
       "    </tr>\n",
       "    <tr>\n",
       "      <th>2</th>\n",
       "      <td>919.9710</td>\n",
       "      <td>5175.171</td>\n",
       "      <td>Medium</td>\n",
       "      <td>915.490</td>\n",
       "      <td>9</td>\n",
       "      <td>0.1</td>\n",
       "    </tr>\n",
       "    <tr>\n",
       "      <th>3</th>\n",
       "      <td>-96.5400</td>\n",
       "      <td>2892.510</td>\n",
       "      <td>Medium</td>\n",
       "      <td>910.160</td>\n",
       "      <td>5</td>\n",
       "      <td>0.1</td>\n",
       "    </tr>\n",
       "    <tr>\n",
       "      <th>4</th>\n",
       "      <td>311.5200</td>\n",
       "      <td>2832.960</td>\n",
       "      <td>Critical</td>\n",
       "      <td>903.040</td>\n",
       "      <td>8</td>\n",
       "      <td>0.0</td>\n",
       "    </tr>\n",
       "    <tr>\n",
       "      <th>...</th>\n",
       "      <td>...</td>\n",
       "      <td>...</td>\n",
       "      <td>...</td>\n",
       "      <td>...</td>\n",
       "      <td>...</td>\n",
       "      <td>...</td>\n",
       "    </tr>\n",
       "    <tr>\n",
       "      <th>51285</th>\n",
       "      <td>4.5000</td>\n",
       "      <td>65.100</td>\n",
       "      <td>Medium</td>\n",
       "      <td>0.010</td>\n",
       "      <td>5</td>\n",
       "      <td>0.0</td>\n",
       "    </tr>\n",
       "    <tr>\n",
       "      <th>51286</th>\n",
       "      <td>-1.1100</td>\n",
       "      <td>0.444</td>\n",
       "      <td>Medium</td>\n",
       "      <td>0.010</td>\n",
       "      <td>1</td>\n",
       "      <td>0.8</td>\n",
       "    </tr>\n",
       "    <tr>\n",
       "      <th>51287</th>\n",
       "      <td>11.2308</td>\n",
       "      <td>22.920</td>\n",
       "      <td>High</td>\n",
       "      <td>0.010</td>\n",
       "      <td>3</td>\n",
       "      <td>0.0</td>\n",
       "    </tr>\n",
       "    <tr>\n",
       "      <th>51288</th>\n",
       "      <td>2.4000</td>\n",
       "      <td>13.440</td>\n",
       "      <td>Medium</td>\n",
       "      <td>0.003</td>\n",
       "      <td>2</td>\n",
       "      <td>0.0</td>\n",
       "    </tr>\n",
       "    <tr>\n",
       "      <th>51289</th>\n",
       "      <td>1.8000</td>\n",
       "      <td>61.380</td>\n",
       "      <td>High</td>\n",
       "      <td>0.002</td>\n",
       "      <td>3</td>\n",
       "      <td>0.0</td>\n",
       "    </tr>\n",
       "  </tbody>\n",
       "</table>\n",
       "<p>51290 rows × 6 columns</p>\n",
       "</div>"
      ],
      "text/plain": [
       "         Profit     Sales Order Priority  Shipping Cost  Quantity  Discount\n",
       "0      762.1845  2309.650       Critical        933.570         7       0.0\n",
       "1     -288.7650  3709.395       Critical        923.630         9       0.1\n",
       "2      919.9710  5175.171         Medium        915.490         9       0.1\n",
       "3      -96.5400  2892.510         Medium        910.160         5       0.1\n",
       "4      311.5200  2832.960       Critical        903.040         8       0.0\n",
       "...         ...       ...            ...            ...       ...       ...\n",
       "51285    4.5000    65.100         Medium          0.010         5       0.0\n",
       "51286   -1.1100     0.444         Medium          0.010         1       0.8\n",
       "51287   11.2308    22.920           High          0.010         3       0.0\n",
       "51288    2.4000    13.440         Medium          0.003         2       0.0\n",
       "51289    1.8000    61.380           High          0.002         3       0.0\n",
       "\n",
       "[51290 rows x 6 columns]"
      ]
     },
     "execution_count": 35,
     "metadata": {},
     "output_type": "execute_result"
    }
   ],
   "source": [
    "df1=df[['Profit','Sales','Order Priority','Shipping Cost','Quantity','Discount']]\n",
    "df1"
   ]
  },
  {
   "cell_type": "code",
   "execution_count": 36,
   "id": "41416aa9",
   "metadata": {},
   "outputs": [
    {
     "data": {
      "text/plain": [
       "Index(['Profit', 'Sales', 'Order Priority', 'Shipping Cost', 'Quantity',\n",
       "       'Discount'],\n",
       "      dtype='object')"
      ]
     },
     "execution_count": 36,
     "metadata": {},
     "output_type": "execute_result"
    }
   ],
   "source": [
    "df1.columns"
   ]
  },
  {
   "cell_type": "code",
   "execution_count": 64,
   "id": "2440495d",
   "metadata": {},
   "outputs": [],
   "source": [
    "from sklearn.model_selection import train_test_split\n",
    "X=df1.drop(\"Order Priority\",axis=1)\n",
    "y = df1[\"Order Priority\"]\n",
    "X_train, X_test, y_train, y_test = train_test_split(X, y, test_size=0.1, random_state=42)"
   ]
  },
  {
   "cell_type": "code",
   "execution_count": 66,
   "id": "253fab16",
   "metadata": {},
   "outputs": [
    {
     "name": "stderr",
     "output_type": "stream",
     "text": [
      "/home/rgukt/anaconda3/lib/python3.11/site-packages/sklearn/linear_model/_logistic.py:460: ConvergenceWarning: lbfgs failed to converge (status=1):\n",
      "STOP: TOTAL NO. of ITERATIONS REACHED LIMIT.\n",
      "\n",
      "Increase the number of iterations (max_iter) or scale the data as shown in:\n",
      "    https://scikit-learn.org/stable/modules/preprocessing.html\n",
      "Please also refer to the documentation for alternative solver options:\n",
      "    https://scikit-learn.org/stable/modules/linear_model.html#logistic-regression\n",
      "  n_iter_i = _check_optimize_result(\n"
     ]
    },
    {
     "data": {
      "text/html": [
       "<style>#sk-container-id-12 {color: black;}#sk-container-id-12 pre{padding: 0;}#sk-container-id-12 div.sk-toggleable {background-color: white;}#sk-container-id-12 label.sk-toggleable__label {cursor: pointer;display: block;width: 100%;margin-bottom: 0;padding: 0.3em;box-sizing: border-box;text-align: center;}#sk-container-id-12 label.sk-toggleable__label-arrow:before {content: \"▸\";float: left;margin-right: 0.25em;color: #696969;}#sk-container-id-12 label.sk-toggleable__label-arrow:hover:before {color: black;}#sk-container-id-12 div.sk-estimator:hover label.sk-toggleable__label-arrow:before {color: black;}#sk-container-id-12 div.sk-toggleable__content {max-height: 0;max-width: 0;overflow: hidden;text-align: left;background-color: #f0f8ff;}#sk-container-id-12 div.sk-toggleable__content pre {margin: 0.2em;color: black;border-radius: 0.25em;background-color: #f0f8ff;}#sk-container-id-12 input.sk-toggleable__control:checked~div.sk-toggleable__content {max-height: 200px;max-width: 100%;overflow: auto;}#sk-container-id-12 input.sk-toggleable__control:checked~label.sk-toggleable__label-arrow:before {content: \"▾\";}#sk-container-id-12 div.sk-estimator input.sk-toggleable__control:checked~label.sk-toggleable__label {background-color: #d4ebff;}#sk-container-id-12 div.sk-label input.sk-toggleable__control:checked~label.sk-toggleable__label {background-color: #d4ebff;}#sk-container-id-12 input.sk-hidden--visually {border: 0;clip: rect(1px 1px 1px 1px);clip: rect(1px, 1px, 1px, 1px);height: 1px;margin: -1px;overflow: hidden;padding: 0;position: absolute;width: 1px;}#sk-container-id-12 div.sk-estimator {font-family: monospace;background-color: #f0f8ff;border: 1px dotted black;border-radius: 0.25em;box-sizing: border-box;margin-bottom: 0.5em;}#sk-container-id-12 div.sk-estimator:hover {background-color: #d4ebff;}#sk-container-id-12 div.sk-parallel-item::after {content: \"\";width: 100%;border-bottom: 1px solid gray;flex-grow: 1;}#sk-container-id-12 div.sk-label:hover label.sk-toggleable__label {background-color: #d4ebff;}#sk-container-id-12 div.sk-serial::before {content: \"\";position: absolute;border-left: 1px solid gray;box-sizing: border-box;top: 0;bottom: 0;left: 50%;z-index: 0;}#sk-container-id-12 div.sk-serial {display: flex;flex-direction: column;align-items: center;background-color: white;padding-right: 0.2em;padding-left: 0.2em;position: relative;}#sk-container-id-12 div.sk-item {position: relative;z-index: 1;}#sk-container-id-12 div.sk-parallel {display: flex;align-items: stretch;justify-content: center;background-color: white;position: relative;}#sk-container-id-12 div.sk-item::before, #sk-container-id-12 div.sk-parallel-item::before {content: \"\";position: absolute;border-left: 1px solid gray;box-sizing: border-box;top: 0;bottom: 0;left: 50%;z-index: -1;}#sk-container-id-12 div.sk-parallel-item {display: flex;flex-direction: column;z-index: 1;position: relative;background-color: white;}#sk-container-id-12 div.sk-parallel-item:first-child::after {align-self: flex-end;width: 50%;}#sk-container-id-12 div.sk-parallel-item:last-child::after {align-self: flex-start;width: 50%;}#sk-container-id-12 div.sk-parallel-item:only-child::after {width: 0;}#sk-container-id-12 div.sk-dashed-wrapped {border: 1px dashed gray;margin: 0 0.4em 0.5em 0.4em;box-sizing: border-box;padding-bottom: 0.4em;background-color: white;}#sk-container-id-12 div.sk-label label {font-family: monospace;font-weight: bold;display: inline-block;line-height: 1.2em;}#sk-container-id-12 div.sk-label-container {text-align: center;}#sk-container-id-12 div.sk-container {/* jupyter's `normalize.less` sets `[hidden] { display: none; }` but bootstrap.min.css set `[hidden] { display: none !important; }` so we also need the `!important` here to be able to override the default hidden behavior on the sphinx rendered scikit-learn.org. See: https://github.com/scikit-learn/scikit-learn/issues/21755 */display: inline-block !important;position: relative;}#sk-container-id-12 div.sk-text-repr-fallback {display: none;}</style><div id=\"sk-container-id-12\" class=\"sk-top-container\"><div class=\"sk-text-repr-fallback\"><pre>LogisticRegression()</pre><b>In a Jupyter environment, please rerun this cell to show the HTML representation or trust the notebook. <br />On GitHub, the HTML representation is unable to render, please try loading this page with nbviewer.org.</b></div><div class=\"sk-container\" hidden><div class=\"sk-item\"><div class=\"sk-estimator sk-toggleable\"><input class=\"sk-toggleable__control sk-hidden--visually\" id=\"sk-estimator-id-12\" type=\"checkbox\" checked><label for=\"sk-estimator-id-12\" class=\"sk-toggleable__label sk-toggleable__label-arrow\">LogisticRegression</label><div class=\"sk-toggleable__content\"><pre>LogisticRegression()</pre></div></div></div></div></div>"
      ],
      "text/plain": [
       "LogisticRegression()"
      ]
     },
     "execution_count": 66,
     "metadata": {},
     "output_type": "execute_result"
    }
   ],
   "source": [
    "from sklearn.linear_model import LogisticRegression\n",
    "model1 = LogisticRegression()\n",
    "model1.fit(X_train, y_train)"
   ]
  },
  {
   "cell_type": "code",
   "execution_count": 53,
   "id": "b539d378",
   "metadata": {},
   "outputs": [
    {
     "data": {
      "text/html": [
       "<style>#sk-container-id-7 {color: black;}#sk-container-id-7 pre{padding: 0;}#sk-container-id-7 div.sk-toggleable {background-color: white;}#sk-container-id-7 label.sk-toggleable__label {cursor: pointer;display: block;width: 100%;margin-bottom: 0;padding: 0.3em;box-sizing: border-box;text-align: center;}#sk-container-id-7 label.sk-toggleable__label-arrow:before {content: \"▸\";float: left;margin-right: 0.25em;color: #696969;}#sk-container-id-7 label.sk-toggleable__label-arrow:hover:before {color: black;}#sk-container-id-7 div.sk-estimator:hover label.sk-toggleable__label-arrow:before {color: black;}#sk-container-id-7 div.sk-toggleable__content {max-height: 0;max-width: 0;overflow: hidden;text-align: left;background-color: #f0f8ff;}#sk-container-id-7 div.sk-toggleable__content pre {margin: 0.2em;color: black;border-radius: 0.25em;background-color: #f0f8ff;}#sk-container-id-7 input.sk-toggleable__control:checked~div.sk-toggleable__content {max-height: 200px;max-width: 100%;overflow: auto;}#sk-container-id-7 input.sk-toggleable__control:checked~label.sk-toggleable__label-arrow:before {content: \"▾\";}#sk-container-id-7 div.sk-estimator input.sk-toggleable__control:checked~label.sk-toggleable__label {background-color: #d4ebff;}#sk-container-id-7 div.sk-label input.sk-toggleable__control:checked~label.sk-toggleable__label {background-color: #d4ebff;}#sk-container-id-7 input.sk-hidden--visually {border: 0;clip: rect(1px 1px 1px 1px);clip: rect(1px, 1px, 1px, 1px);height: 1px;margin: -1px;overflow: hidden;padding: 0;position: absolute;width: 1px;}#sk-container-id-7 div.sk-estimator {font-family: monospace;background-color: #f0f8ff;border: 1px dotted black;border-radius: 0.25em;box-sizing: border-box;margin-bottom: 0.5em;}#sk-container-id-7 div.sk-estimator:hover {background-color: #d4ebff;}#sk-container-id-7 div.sk-parallel-item::after {content: \"\";width: 100%;border-bottom: 1px solid gray;flex-grow: 1;}#sk-container-id-7 div.sk-label:hover label.sk-toggleable__label {background-color: #d4ebff;}#sk-container-id-7 div.sk-serial::before {content: \"\";position: absolute;border-left: 1px solid gray;box-sizing: border-box;top: 0;bottom: 0;left: 50%;z-index: 0;}#sk-container-id-7 div.sk-serial {display: flex;flex-direction: column;align-items: center;background-color: white;padding-right: 0.2em;padding-left: 0.2em;position: relative;}#sk-container-id-7 div.sk-item {position: relative;z-index: 1;}#sk-container-id-7 div.sk-parallel {display: flex;align-items: stretch;justify-content: center;background-color: white;position: relative;}#sk-container-id-7 div.sk-item::before, #sk-container-id-7 div.sk-parallel-item::before {content: \"\";position: absolute;border-left: 1px solid gray;box-sizing: border-box;top: 0;bottom: 0;left: 50%;z-index: -1;}#sk-container-id-7 div.sk-parallel-item {display: flex;flex-direction: column;z-index: 1;position: relative;background-color: white;}#sk-container-id-7 div.sk-parallel-item:first-child::after {align-self: flex-end;width: 50%;}#sk-container-id-7 div.sk-parallel-item:last-child::after {align-self: flex-start;width: 50%;}#sk-container-id-7 div.sk-parallel-item:only-child::after {width: 0;}#sk-container-id-7 div.sk-dashed-wrapped {border: 1px dashed gray;margin: 0 0.4em 0.5em 0.4em;box-sizing: border-box;padding-bottom: 0.4em;background-color: white;}#sk-container-id-7 div.sk-label label {font-family: monospace;font-weight: bold;display: inline-block;line-height: 1.2em;}#sk-container-id-7 div.sk-label-container {text-align: center;}#sk-container-id-7 div.sk-container {/* jupyter's `normalize.less` sets `[hidden] { display: none; }` but bootstrap.min.css set `[hidden] { display: none !important; }` so we also need the `!important` here to be able to override the default hidden behavior on the sphinx rendered scikit-learn.org. See: https://github.com/scikit-learn/scikit-learn/issues/21755 */display: inline-block !important;position: relative;}#sk-container-id-7 div.sk-text-repr-fallback {display: none;}</style><div id=\"sk-container-id-7\" class=\"sk-top-container\"><div class=\"sk-text-repr-fallback\"><pre>RandomForestClassifier()</pre><b>In a Jupyter environment, please rerun this cell to show the HTML representation or trust the notebook. <br />On GitHub, the HTML representation is unable to render, please try loading this page with nbviewer.org.</b></div><div class=\"sk-container\" hidden><div class=\"sk-item\"><div class=\"sk-estimator sk-toggleable\"><input class=\"sk-toggleable__control sk-hidden--visually\" id=\"sk-estimator-id-7\" type=\"checkbox\" checked><label for=\"sk-estimator-id-7\" class=\"sk-toggleable__label sk-toggleable__label-arrow\">RandomForestClassifier</label><div class=\"sk-toggleable__content\"><pre>RandomForestClassifier()</pre></div></div></div></div></div>"
      ],
      "text/plain": [
       "RandomForestClassifier()"
      ]
     },
     "execution_count": 53,
     "metadata": {},
     "output_type": "execute_result"
    }
   ],
   "source": [
    "from sklearn.ensemble import RandomForestClassifier\n",
    "model2=RandomForestClassifier()\n",
    "model2.fit(X_train, y_train)"
   ]
  },
  {
   "cell_type": "code",
   "execution_count": 54,
   "id": "9ef5c48a",
   "metadata": {},
   "outputs": [
    {
     "data": {
      "text/html": [
       "<style>#sk-container-id-8 {color: black;}#sk-container-id-8 pre{padding: 0;}#sk-container-id-8 div.sk-toggleable {background-color: white;}#sk-container-id-8 label.sk-toggleable__label {cursor: pointer;display: block;width: 100%;margin-bottom: 0;padding: 0.3em;box-sizing: border-box;text-align: center;}#sk-container-id-8 label.sk-toggleable__label-arrow:before {content: \"▸\";float: left;margin-right: 0.25em;color: #696969;}#sk-container-id-8 label.sk-toggleable__label-arrow:hover:before {color: black;}#sk-container-id-8 div.sk-estimator:hover label.sk-toggleable__label-arrow:before {color: black;}#sk-container-id-8 div.sk-toggleable__content {max-height: 0;max-width: 0;overflow: hidden;text-align: left;background-color: #f0f8ff;}#sk-container-id-8 div.sk-toggleable__content pre {margin: 0.2em;color: black;border-radius: 0.25em;background-color: #f0f8ff;}#sk-container-id-8 input.sk-toggleable__control:checked~div.sk-toggleable__content {max-height: 200px;max-width: 100%;overflow: auto;}#sk-container-id-8 input.sk-toggleable__control:checked~label.sk-toggleable__label-arrow:before {content: \"▾\";}#sk-container-id-8 div.sk-estimator input.sk-toggleable__control:checked~label.sk-toggleable__label {background-color: #d4ebff;}#sk-container-id-8 div.sk-label input.sk-toggleable__control:checked~label.sk-toggleable__label {background-color: #d4ebff;}#sk-container-id-8 input.sk-hidden--visually {border: 0;clip: rect(1px 1px 1px 1px);clip: rect(1px, 1px, 1px, 1px);height: 1px;margin: -1px;overflow: hidden;padding: 0;position: absolute;width: 1px;}#sk-container-id-8 div.sk-estimator {font-family: monospace;background-color: #f0f8ff;border: 1px dotted black;border-radius: 0.25em;box-sizing: border-box;margin-bottom: 0.5em;}#sk-container-id-8 div.sk-estimator:hover {background-color: #d4ebff;}#sk-container-id-8 div.sk-parallel-item::after {content: \"\";width: 100%;border-bottom: 1px solid gray;flex-grow: 1;}#sk-container-id-8 div.sk-label:hover label.sk-toggleable__label {background-color: #d4ebff;}#sk-container-id-8 div.sk-serial::before {content: \"\";position: absolute;border-left: 1px solid gray;box-sizing: border-box;top: 0;bottom: 0;left: 50%;z-index: 0;}#sk-container-id-8 div.sk-serial {display: flex;flex-direction: column;align-items: center;background-color: white;padding-right: 0.2em;padding-left: 0.2em;position: relative;}#sk-container-id-8 div.sk-item {position: relative;z-index: 1;}#sk-container-id-8 div.sk-parallel {display: flex;align-items: stretch;justify-content: center;background-color: white;position: relative;}#sk-container-id-8 div.sk-item::before, #sk-container-id-8 div.sk-parallel-item::before {content: \"\";position: absolute;border-left: 1px solid gray;box-sizing: border-box;top: 0;bottom: 0;left: 50%;z-index: -1;}#sk-container-id-8 div.sk-parallel-item {display: flex;flex-direction: column;z-index: 1;position: relative;background-color: white;}#sk-container-id-8 div.sk-parallel-item:first-child::after {align-self: flex-end;width: 50%;}#sk-container-id-8 div.sk-parallel-item:last-child::after {align-self: flex-start;width: 50%;}#sk-container-id-8 div.sk-parallel-item:only-child::after {width: 0;}#sk-container-id-8 div.sk-dashed-wrapped {border: 1px dashed gray;margin: 0 0.4em 0.5em 0.4em;box-sizing: border-box;padding-bottom: 0.4em;background-color: white;}#sk-container-id-8 div.sk-label label {font-family: monospace;font-weight: bold;display: inline-block;line-height: 1.2em;}#sk-container-id-8 div.sk-label-container {text-align: center;}#sk-container-id-8 div.sk-container {/* jupyter's `normalize.less` sets `[hidden] { display: none; }` but bootstrap.min.css set `[hidden] { display: none !important; }` so we also need the `!important` here to be able to override the default hidden behavior on the sphinx rendered scikit-learn.org. See: https://github.com/scikit-learn/scikit-learn/issues/21755 */display: inline-block !important;position: relative;}#sk-container-id-8 div.sk-text-repr-fallback {display: none;}</style><div id=\"sk-container-id-8\" class=\"sk-top-container\"><div class=\"sk-text-repr-fallback\"><pre>KNeighborsClassifier()</pre><b>In a Jupyter environment, please rerun this cell to show the HTML representation or trust the notebook. <br />On GitHub, the HTML representation is unable to render, please try loading this page with nbviewer.org.</b></div><div class=\"sk-container\" hidden><div class=\"sk-item\"><div class=\"sk-estimator sk-toggleable\"><input class=\"sk-toggleable__control sk-hidden--visually\" id=\"sk-estimator-id-8\" type=\"checkbox\" checked><label for=\"sk-estimator-id-8\" class=\"sk-toggleable__label sk-toggleable__label-arrow\">KNeighborsClassifier</label><div class=\"sk-toggleable__content\"><pre>KNeighborsClassifier()</pre></div></div></div></div></div>"
      ],
      "text/plain": [
       "KNeighborsClassifier()"
      ]
     },
     "execution_count": 54,
     "metadata": {},
     "output_type": "execute_result"
    }
   ],
   "source": [
    "from sklearn.neighbors import KNeighborsClassifier\n",
    "model3=KNeighborsClassifier()\n",
    "model3.fit(X_train, y_train)"
   ]
  },
  {
   "cell_type": "code",
   "execution_count": 55,
   "id": "b51ccf06",
   "metadata": {},
   "outputs": [
    {
     "data": {
      "text/html": [
       "<style>#sk-container-id-9 {color: black;}#sk-container-id-9 pre{padding: 0;}#sk-container-id-9 div.sk-toggleable {background-color: white;}#sk-container-id-9 label.sk-toggleable__label {cursor: pointer;display: block;width: 100%;margin-bottom: 0;padding: 0.3em;box-sizing: border-box;text-align: center;}#sk-container-id-9 label.sk-toggleable__label-arrow:before {content: \"▸\";float: left;margin-right: 0.25em;color: #696969;}#sk-container-id-9 label.sk-toggleable__label-arrow:hover:before {color: black;}#sk-container-id-9 div.sk-estimator:hover label.sk-toggleable__label-arrow:before {color: black;}#sk-container-id-9 div.sk-toggleable__content {max-height: 0;max-width: 0;overflow: hidden;text-align: left;background-color: #f0f8ff;}#sk-container-id-9 div.sk-toggleable__content pre {margin: 0.2em;color: black;border-radius: 0.25em;background-color: #f0f8ff;}#sk-container-id-9 input.sk-toggleable__control:checked~div.sk-toggleable__content {max-height: 200px;max-width: 100%;overflow: auto;}#sk-container-id-9 input.sk-toggleable__control:checked~label.sk-toggleable__label-arrow:before {content: \"▾\";}#sk-container-id-9 div.sk-estimator input.sk-toggleable__control:checked~label.sk-toggleable__label {background-color: #d4ebff;}#sk-container-id-9 div.sk-label input.sk-toggleable__control:checked~label.sk-toggleable__label {background-color: #d4ebff;}#sk-container-id-9 input.sk-hidden--visually {border: 0;clip: rect(1px 1px 1px 1px);clip: rect(1px, 1px, 1px, 1px);height: 1px;margin: -1px;overflow: hidden;padding: 0;position: absolute;width: 1px;}#sk-container-id-9 div.sk-estimator {font-family: monospace;background-color: #f0f8ff;border: 1px dotted black;border-radius: 0.25em;box-sizing: border-box;margin-bottom: 0.5em;}#sk-container-id-9 div.sk-estimator:hover {background-color: #d4ebff;}#sk-container-id-9 div.sk-parallel-item::after {content: \"\";width: 100%;border-bottom: 1px solid gray;flex-grow: 1;}#sk-container-id-9 div.sk-label:hover label.sk-toggleable__label {background-color: #d4ebff;}#sk-container-id-9 div.sk-serial::before {content: \"\";position: absolute;border-left: 1px solid gray;box-sizing: border-box;top: 0;bottom: 0;left: 50%;z-index: 0;}#sk-container-id-9 div.sk-serial {display: flex;flex-direction: column;align-items: center;background-color: white;padding-right: 0.2em;padding-left: 0.2em;position: relative;}#sk-container-id-9 div.sk-item {position: relative;z-index: 1;}#sk-container-id-9 div.sk-parallel {display: flex;align-items: stretch;justify-content: center;background-color: white;position: relative;}#sk-container-id-9 div.sk-item::before, #sk-container-id-9 div.sk-parallel-item::before {content: \"\";position: absolute;border-left: 1px solid gray;box-sizing: border-box;top: 0;bottom: 0;left: 50%;z-index: -1;}#sk-container-id-9 div.sk-parallel-item {display: flex;flex-direction: column;z-index: 1;position: relative;background-color: white;}#sk-container-id-9 div.sk-parallel-item:first-child::after {align-self: flex-end;width: 50%;}#sk-container-id-9 div.sk-parallel-item:last-child::after {align-self: flex-start;width: 50%;}#sk-container-id-9 div.sk-parallel-item:only-child::after {width: 0;}#sk-container-id-9 div.sk-dashed-wrapped {border: 1px dashed gray;margin: 0 0.4em 0.5em 0.4em;box-sizing: border-box;padding-bottom: 0.4em;background-color: white;}#sk-container-id-9 div.sk-label label {font-family: monospace;font-weight: bold;display: inline-block;line-height: 1.2em;}#sk-container-id-9 div.sk-label-container {text-align: center;}#sk-container-id-9 div.sk-container {/* jupyter's `normalize.less` sets `[hidden] { display: none; }` but bootstrap.min.css set `[hidden] { display: none !important; }` so we also need the `!important` here to be able to override the default hidden behavior on the sphinx rendered scikit-learn.org. See: https://github.com/scikit-learn/scikit-learn/issues/21755 */display: inline-block !important;position: relative;}#sk-container-id-9 div.sk-text-repr-fallback {display: none;}</style><div id=\"sk-container-id-9\" class=\"sk-top-container\"><div class=\"sk-text-repr-fallback\"><pre>DecisionTreeClassifier()</pre><b>In a Jupyter environment, please rerun this cell to show the HTML representation or trust the notebook. <br />On GitHub, the HTML representation is unable to render, please try loading this page with nbviewer.org.</b></div><div class=\"sk-container\" hidden><div class=\"sk-item\"><div class=\"sk-estimator sk-toggleable\"><input class=\"sk-toggleable__control sk-hidden--visually\" id=\"sk-estimator-id-9\" type=\"checkbox\" checked><label for=\"sk-estimator-id-9\" class=\"sk-toggleable__label sk-toggleable__label-arrow\">DecisionTreeClassifier</label><div class=\"sk-toggleable__content\"><pre>DecisionTreeClassifier()</pre></div></div></div></div></div>"
      ],
      "text/plain": [
       "DecisionTreeClassifier()"
      ]
     },
     "execution_count": 55,
     "metadata": {},
     "output_type": "execute_result"
    }
   ],
   "source": [
    "from sklearn.tree import DecisionTreeClassifier\n",
    "model4= DecisionTreeClassifier()\n",
    "model4.fit(X_train, y_train)"
   ]
  },
  {
   "cell_type": "code",
   "execution_count": 56,
   "id": "23e3a7fd",
   "metadata": {},
   "outputs": [
    {
     "data": {
      "text/html": [
       "<style>#sk-container-id-10 {color: black;}#sk-container-id-10 pre{padding: 0;}#sk-container-id-10 div.sk-toggleable {background-color: white;}#sk-container-id-10 label.sk-toggleable__label {cursor: pointer;display: block;width: 100%;margin-bottom: 0;padding: 0.3em;box-sizing: border-box;text-align: center;}#sk-container-id-10 label.sk-toggleable__label-arrow:before {content: \"▸\";float: left;margin-right: 0.25em;color: #696969;}#sk-container-id-10 label.sk-toggleable__label-arrow:hover:before {color: black;}#sk-container-id-10 div.sk-estimator:hover label.sk-toggleable__label-arrow:before {color: black;}#sk-container-id-10 div.sk-toggleable__content {max-height: 0;max-width: 0;overflow: hidden;text-align: left;background-color: #f0f8ff;}#sk-container-id-10 div.sk-toggleable__content pre {margin: 0.2em;color: black;border-radius: 0.25em;background-color: #f0f8ff;}#sk-container-id-10 input.sk-toggleable__control:checked~div.sk-toggleable__content {max-height: 200px;max-width: 100%;overflow: auto;}#sk-container-id-10 input.sk-toggleable__control:checked~label.sk-toggleable__label-arrow:before {content: \"▾\";}#sk-container-id-10 div.sk-estimator input.sk-toggleable__control:checked~label.sk-toggleable__label {background-color: #d4ebff;}#sk-container-id-10 div.sk-label input.sk-toggleable__control:checked~label.sk-toggleable__label {background-color: #d4ebff;}#sk-container-id-10 input.sk-hidden--visually {border: 0;clip: rect(1px 1px 1px 1px);clip: rect(1px, 1px, 1px, 1px);height: 1px;margin: -1px;overflow: hidden;padding: 0;position: absolute;width: 1px;}#sk-container-id-10 div.sk-estimator {font-family: monospace;background-color: #f0f8ff;border: 1px dotted black;border-radius: 0.25em;box-sizing: border-box;margin-bottom: 0.5em;}#sk-container-id-10 div.sk-estimator:hover {background-color: #d4ebff;}#sk-container-id-10 div.sk-parallel-item::after {content: \"\";width: 100%;border-bottom: 1px solid gray;flex-grow: 1;}#sk-container-id-10 div.sk-label:hover label.sk-toggleable__label {background-color: #d4ebff;}#sk-container-id-10 div.sk-serial::before {content: \"\";position: absolute;border-left: 1px solid gray;box-sizing: border-box;top: 0;bottom: 0;left: 50%;z-index: 0;}#sk-container-id-10 div.sk-serial {display: flex;flex-direction: column;align-items: center;background-color: white;padding-right: 0.2em;padding-left: 0.2em;position: relative;}#sk-container-id-10 div.sk-item {position: relative;z-index: 1;}#sk-container-id-10 div.sk-parallel {display: flex;align-items: stretch;justify-content: center;background-color: white;position: relative;}#sk-container-id-10 div.sk-item::before, #sk-container-id-10 div.sk-parallel-item::before {content: \"\";position: absolute;border-left: 1px solid gray;box-sizing: border-box;top: 0;bottom: 0;left: 50%;z-index: -1;}#sk-container-id-10 div.sk-parallel-item {display: flex;flex-direction: column;z-index: 1;position: relative;background-color: white;}#sk-container-id-10 div.sk-parallel-item:first-child::after {align-self: flex-end;width: 50%;}#sk-container-id-10 div.sk-parallel-item:last-child::after {align-self: flex-start;width: 50%;}#sk-container-id-10 div.sk-parallel-item:only-child::after {width: 0;}#sk-container-id-10 div.sk-dashed-wrapped {border: 1px dashed gray;margin: 0 0.4em 0.5em 0.4em;box-sizing: border-box;padding-bottom: 0.4em;background-color: white;}#sk-container-id-10 div.sk-label label {font-family: monospace;font-weight: bold;display: inline-block;line-height: 1.2em;}#sk-container-id-10 div.sk-label-container {text-align: center;}#sk-container-id-10 div.sk-container {/* jupyter's `normalize.less` sets `[hidden] { display: none; }` but bootstrap.min.css set `[hidden] { display: none !important; }` so we also need the `!important` here to be able to override the default hidden behavior on the sphinx rendered scikit-learn.org. See: https://github.com/scikit-learn/scikit-learn/issues/21755 */display: inline-block !important;position: relative;}#sk-container-id-10 div.sk-text-repr-fallback {display: none;}</style><div id=\"sk-container-id-10\" class=\"sk-top-container\"><div class=\"sk-text-repr-fallback\"><pre>GradientBoostingClassifier(random_state=42)</pre><b>In a Jupyter environment, please rerun this cell to show the HTML representation or trust the notebook. <br />On GitHub, the HTML representation is unable to render, please try loading this page with nbviewer.org.</b></div><div class=\"sk-container\" hidden><div class=\"sk-item\"><div class=\"sk-estimator sk-toggleable\"><input class=\"sk-toggleable__control sk-hidden--visually\" id=\"sk-estimator-id-10\" type=\"checkbox\" checked><label for=\"sk-estimator-id-10\" class=\"sk-toggleable__label sk-toggleable__label-arrow\">GradientBoostingClassifier</label><div class=\"sk-toggleable__content\"><pre>GradientBoostingClassifier(random_state=42)</pre></div></div></div></div></div>"
      ],
      "text/plain": [
       "GradientBoostingClassifier(random_state=42)"
      ]
     },
     "execution_count": 56,
     "metadata": {},
     "output_type": "execute_result"
    }
   ],
   "source": [
    "from sklearn.ensemble import GradientBoostingClassifier\n",
    "model5= GradientBoostingClassifier(random_state=42)\n",
    "model5.fit(X_train, y_train)"
   ]
  },
  {
   "cell_type": "markdown",
   "id": "b644ddae",
   "metadata": {
    "id": "-4fnshDO9cN7"
   },
   "source": [
    "# Metrics"
   ]
  },
  {
   "cell_type": "markdown",
   "id": "34296858",
   "metadata": {},
   "source": [
    "### Logistic Regression "
   ]
  },
  {
   "cell_type": "code",
   "execution_count": 57,
   "id": "a9747376",
   "metadata": {},
   "outputs": [
    {
     "name": "stdout",
     "output_type": "stream",
     "text": [
      "0.6343450098568055\n",
      "0.6447650614154806\n",
      "[[  59  159    0  167]\n",
      " [  20  356    0 1133]\n",
      " [   1   37    0  201]\n",
      " [   4  100    0 2892]]\n",
      "Accuracy: 0.64\n",
      "Classification Report:\n",
      "               precision    recall  f1-score   support\n",
      "\n",
      "    Critical       0.70      0.15      0.25       385\n",
      "        High       0.55      0.24      0.33      1509\n",
      "         Low       0.00      0.00      0.00       239\n",
      "      Medium       0.66      0.97      0.78      2996\n",
      "\n",
      "    accuracy                           0.64      5129\n",
      "   macro avg       0.48      0.34      0.34      5129\n",
      "weighted avg       0.60      0.64      0.57      5129\n",
      "\n"
     ]
    },
    {
     "name": "stderr",
     "output_type": "stream",
     "text": [
      "/home/rgukt/anaconda3/lib/python3.11/site-packages/sklearn/metrics/_classification.py:1469: UndefinedMetricWarning: Precision and F-score are ill-defined and being set to 0.0 in labels with no predicted samples. Use `zero_division` parameter to control this behavior.\n",
      "  _warn_prf(average, modifier, msg_start, len(result))\n",
      "/home/rgukt/anaconda3/lib/python3.11/site-packages/sklearn/metrics/_classification.py:1469: UndefinedMetricWarning: Precision and F-score are ill-defined and being set to 0.0 in labels with no predicted samples. Use `zero_division` parameter to control this behavior.\n",
      "  _warn_prf(average, modifier, msg_start, len(result))\n",
      "/home/rgukt/anaconda3/lib/python3.11/site-packages/sklearn/metrics/_classification.py:1469: UndefinedMetricWarning: Precision and F-score are ill-defined and being set to 0.0 in labels with no predicted samples. Use `zero_division` parameter to control this behavior.\n",
      "  _warn_prf(average, modifier, msg_start, len(result))\n"
     ]
    }
   ],
   "source": [
    "from sklearn.metrics import accuracy_score, classification_report,confusion_matrix\n",
    "print(model1.score(X_train,y_train))\n",
    "print(model1.score(X_test,y_test))\n",
    "\n",
    "y_pred = model1.predict(X_test)\n",
    "accuracy = accuracy_score(y_test, y_pred)\n",
    "classification_report_str = classification_report(y_test, y_pred)\n",
    "print(confusion_matrix(y_test, y_pred))\n",
    "print(f\"Accuracy: {accuracy:.2f}\")\n",
    "print(\"Classification Report:\\n\", classification_report_str)"
   ]
  },
  {
   "cell_type": "markdown",
   "id": "b612e53b",
   "metadata": {},
   "source": [
    "### Random Forest Classifier"
   ]
  },
  {
   "cell_type": "code",
   "execution_count": 58,
   "id": "18959da1",
   "metadata": {},
   "outputs": [
    {
     "name": "stdout",
     "output_type": "stream",
     "text": [
      "0.9996533870583393\n",
      "0.7188535776954572\n",
      "[[ 184  173    1   27]\n",
      " [  88  909    6  506]\n",
      " [   0  125    3  111]\n",
      " [  15  378   12 2591]]\n",
      "Accuracy: 0.72\n",
      "Classification Report:\n",
      "               precision    recall  f1-score   support\n",
      "\n",
      "    Critical       0.64      0.48      0.55       385\n",
      "        High       0.57      0.60      0.59      1509\n",
      "         Low       0.14      0.01      0.02       239\n",
      "      Medium       0.80      0.86      0.83      2996\n",
      "\n",
      "    accuracy                           0.72      5129\n",
      "   macro avg       0.54      0.49      0.50      5129\n",
      "weighted avg       0.69      0.72      0.70      5129\n",
      "\n"
     ]
    }
   ],
   "source": [
    "print(model2.score(X_train,y_train))\n",
    "print(model2.score(X_test,y_test))\n",
    "y_pred = model2.predict(X_test)\n",
    "accuracy = accuracy_score(y_test, y_pred)\n",
    "classification_report_str = classification_report(y_test, y_pred)\n",
    "print(confusion_matrix(y_test, y_pred))\n",
    "print(f\"Accuracy: {accuracy:.2f}\")\n",
    "print(\"Classification Report:\\n\", classification_report_str)"
   ]
  },
  {
   "cell_type": "markdown",
   "id": "d58c0141",
   "metadata": {},
   "source": [
    "### KNeighborsClassifier"
   ]
  },
  {
   "cell_type": "code",
   "execution_count": 59,
   "id": "8cc560ba",
   "metadata": {},
   "outputs": [
    {
     "name": "stdout",
     "output_type": "stream",
     "text": [
      "0.7607937436364031\n",
      "0.6800545915383116\n",
      "[[ 184  173    1   27]\n",
      " [  88  909    6  506]\n",
      " [   0  125    3  111]\n",
      " [  15  378   12 2591]]\n",
      "Accuracy: 0.68\n",
      "Classification Report:\n",
      "               precision    recall  f1-score   support\n",
      "\n",
      "    Critical       0.57      0.43      0.49       385\n",
      "        High       0.52      0.53      0.53      1509\n",
      "         Low       0.13      0.03      0.05       239\n",
      "      Medium       0.77      0.84      0.80      2996\n",
      "\n",
      "    accuracy                           0.68      5129\n",
      "   macro avg       0.50      0.46      0.47      5129\n",
      "weighted avg       0.65      0.68      0.66      5129\n",
      "\n"
     ]
    }
   ],
   "source": [
    "print(model3.score(X_train,y_train))\n",
    "print(model3.score(X_test,y_test))\n",
    "print(confusion_matrix(y_test, y_pred))\n",
    "y_pred = model3.predict(X_test)\n",
    "accuracy = accuracy_score(y_test, y_pred)\n",
    "classification_report_str = classification_report(y_test, y_pred)\n",
    "\n",
    "print(f\"Accuracy: {accuracy:.2f}\")\n",
    "print(\"Classification Report:\\n\", classification_report_str)"
   ]
  },
  {
   "cell_type": "markdown",
   "id": "521e2f5c",
   "metadata": {},
   "source": [
    "### DecisionTreeClassifier"
   ]
  },
  {
   "cell_type": "code",
   "execution_count": 60,
   "id": "a5e662e9",
   "metadata": {},
   "outputs": [
    {
     "name": "stdout",
     "output_type": "stream",
     "text": [
      "0.9996967136760468\n",
      "0.6086956521739131\n",
      "[[ 166  169    6   44]\n",
      " [ 104  802   20  583]\n",
      " [   3  115    7  114]\n",
      " [  20  442   21 2513]]\n",
      "Accuracy: 0.61\n",
      "Classification Report:\n",
      "               precision    recall  f1-score   support\n",
      "\n",
      "    Critical       0.48      0.47      0.48       385\n",
      "        High       0.45      0.47      0.46      1509\n",
      "         Low       0.08      0.08      0.08       239\n",
      "      Medium       0.75      0.74      0.75      2996\n",
      "\n",
      "    accuracy                           0.61      5129\n",
      "   macro avg       0.44      0.44      0.44      5129\n",
      "weighted avg       0.61      0.61      0.61      5129\n",
      "\n"
     ]
    }
   ],
   "source": [
    "print(model4.score(X_train,y_train))\n",
    "print(model4.score(X_test,y_test))\n",
    "print(confusion_matrix(y_test, y_pred))\n",
    "y_pred = model4.predict(X_test)\n",
    "accuracy = accuracy_score(y_test, y_pred)\n",
    "classification_report_str = classification_report(y_test, y_pred)\n",
    "\n",
    "print(f\"Accuracy: {accuracy:.2f}\")\n",
    "print(\"Classification Report:\\n\", classification_report_str)"
   ]
  },
  {
   "cell_type": "markdown",
   "id": "2ce51a0b",
   "metadata": {},
   "source": [
    "### GradientBoostingClassifier"
   ]
  },
  {
   "cell_type": "code",
   "execution_count": 61,
   "id": "4afdbed4",
   "metadata": {},
   "outputs": [
    {
     "name": "stdout",
     "output_type": "stream",
     "text": [
      "0.7342561902905049\n",
      "0.7321115227139793\n",
      "[[ 182  141   11   51]\n",
      " [ 137  705  101  566]\n",
      " [   9   98   19  113]\n",
      " [  51  628  101 2216]]\n",
      "Accuracy: 0.73\n",
      "Classification Report:\n",
      "               precision    recall  f1-score   support\n",
      "\n",
      "    Critical       0.69      0.43      0.53       385\n",
      "        High       0.60      0.59      0.59      1509\n",
      "         Low       0.00      0.00      0.00       239\n",
      "      Medium       0.80      0.90      0.84      2996\n",
      "\n",
      "    accuracy                           0.73      5129\n",
      "   macro avg       0.52      0.48      0.49      5129\n",
      "weighted avg       0.69      0.73      0.71      5129\n",
      "\n"
     ]
    },
    {
     "name": "stderr",
     "output_type": "stream",
     "text": [
      "/home/rgukt/anaconda3/lib/python3.11/site-packages/sklearn/metrics/_classification.py:1469: UndefinedMetricWarning: Precision and F-score are ill-defined and being set to 0.0 in labels with no predicted samples. Use `zero_division` parameter to control this behavior.\n",
      "  _warn_prf(average, modifier, msg_start, len(result))\n",
      "/home/rgukt/anaconda3/lib/python3.11/site-packages/sklearn/metrics/_classification.py:1469: UndefinedMetricWarning: Precision and F-score are ill-defined and being set to 0.0 in labels with no predicted samples. Use `zero_division` parameter to control this behavior.\n",
      "  _warn_prf(average, modifier, msg_start, len(result))\n",
      "/home/rgukt/anaconda3/lib/python3.11/site-packages/sklearn/metrics/_classification.py:1469: UndefinedMetricWarning: Precision and F-score are ill-defined and being set to 0.0 in labels with no predicted samples. Use `zero_division` parameter to control this behavior.\n",
      "  _warn_prf(average, modifier, msg_start, len(result))\n"
     ]
    }
   ],
   "source": [
    "print(model5.score(X_train,y_train))\n",
    "print(model5.score(X_test,y_test))\n",
    "print(confusion_matrix(y_test, y_pred))\n",
    "y_pred = model5.predict(X_test)\n",
    "accuracy = accuracy_score(y_test, y_pred)\n",
    "classification_report_str = classification_report(y_test, y_pred)\n",
    "\n",
    "print(f\"Accuracy: {accuracy:.2f}\")\n",
    "print(\"Classification Report:\\n\", classification_report_str)"
   ]
  },
  {
   "cell_type": "markdown",
   "id": "69a5e531",
   "metadata": {
    "id": "OFuKAju2cav2"
   },
   "source": [
    "# Finally Write Conclusion for the dataset"
   ]
  },
  {
   "cell_type": "markdown",
   "id": "11b4d595",
   "metadata": {},
   "source": [
    "Based on the evaluation of five different classifiers on the dataset, the following conclusions can be drawn:\n",
    "\n",
    "Logistic Regression achieved an accuracy of approximately 64.48%.\n",
    "\n",
    "Random Forest Classifier outperformed Logistic Regression with an accuracy of around 71.89%.\n",
    "\n",
    "K-Neighbors Classifier achieved an accuracy of about 68.01%.\n",
    "\n",
    "Decision Tree Classifier yielded an accuracy of approximately 60.87%, displaying lower performance compared to other models.\n",
    "\n",
    "Gradient Boosting Classifier emerged as the top performer, achieving the highest accuracy of about 73.21%.\n",
    "\n",
    "In conclusion, Gradient Boosting Classifier stands out as the most effective model for this dataset, offering the highest accuracy and balanced performance across all classes. However, further analysis, including hyperparameter tuning and feature engineering, may enhance the performance of the models. Additionally, considering other evaluation metrics and real-world implications is crucial for selecting the most suitable classifier for deployment."
   ]
  }
 ],
 "metadata": {
  "kernelspec": {
   "display_name": "Python 3 (ipykernel)",
   "language": "python",
   "name": "python3"
  },
  "language_info": {
   "codemirror_mode": {
    "name": "ipython",
    "version": 3
   },
   "file_extension": ".py",
   "mimetype": "text/x-python",
   "name": "python",
   "nbconvert_exporter": "python",
   "pygments_lexer": "ipython3",
   "version": "3.11.4"
  }
 },
 "nbformat": 4,
 "nbformat_minor": 5
}
